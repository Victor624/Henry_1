{
 "cells": [
  {
   "cell_type": "code",
   "execution_count": 3,
   "metadata": {},
   "outputs": [],
   "source": [
    "import pandas as pd\n",
    "import ast\n",
    "import numpy as np\n",
    "df=pd.read_csv(\"frac_credits.csv\")"
   ]
  },
  {
   "cell_type": "markdown",
   "metadata": {},
   "source": [
    "# Desanidado de columnas \n",
    "\n",
    "## Comenzamos con la columna Cast"
   ]
  },
  {
   "cell_type": "code",
   "execution_count": 4,
   "metadata": {},
   "outputs": [],
   "source": [
    "#Relleno los Nulos y separo la Columna Cast\n",
    "\n",
    "data=df[\"cast\"]\n",
    "\n",
    "data=data.str.replace(\"[]\",\" 'cast_id': null, 'character': null, 'credit_id': null, 'gender': null, 'id': null, 'name': null, 'order': null, 'profile_path': null'\")"
   ]
  },
  {
   "cell_type": "code",
   "execution_count": 5,
   "metadata": {},
   "outputs": [],
   "source": [
    "#Reemplazamos argumentos para poder separar y extraer las variabble que necesitamos\n",
    "\n",
    "data=data.str.replace(\"{\",\" \")\n",
    "data=data.str.replace(\"[\",\"\")\n",
    "data=data.str.replace(\"]\",\"\")\n",
    "data=data.str.replace(\"'cast_id':\",\"\")\n",
    "data=data.str.replace(\"'character':\",\"\")\n",
    "data=data.str.replace(\"'credit_id':\",\"\")\n",
    "data=data.str.replace(\"'gender':\",\"\")\n",
    "data=data.str.replace(\"'id':\",\"\")\n",
    "data=data.str.replace(\"'name':\",\"\")\n",
    "data=data.str.replace(\"'order':\",\"\")\n",
    "data=data.str.replace(\"'profile_path':\",\"\")\n"
   ]
  },
  {
   "cell_type": "code",
   "execution_count": 6,
   "metadata": {},
   "outputs": [],
   "source": [
    "#Creamos una funcion para poder separar los diccionarios de las filas\n",
    "\n",
    "def Separar(lista):\n",
    "    dat=lista.split(\"} ,\")\n",
    "    dat=pd.DataFrame(dat)\n",
    "    dat=dat\n",
    "   \n",
    "    return dat\n",
    "\n",
    "#Creamos funcion para separa en columnas cada variable\n",
    "\n",
    "def fila(lista):\n",
    "    dat=lista.split(\", \")\n",
    "    dat=pd.DataFrame(dat)\n",
    "    dat=dat.T\n",
    "   \n",
    "    return dat"
   ]
  },
  {
   "cell_type": "code",
   "execution_count": 7,
   "metadata": {},
   "outputs": [],
   "source": [
    "#Funcion por la cual vamos a hacer la Limpieza y quedarnos solamente con los actores\n",
    "\n",
    "def Cast(x):\n",
    "    var=x\n",
    "    cast=Separar(var)\n",
    "    cast=cast[0]\n",
    "    cast=cast.str.replace(\"} \",\"\")\n",
    "    cast=pd.concat(list(map(lambda i: fila(i), cast)))\n",
    "\n",
    "    cast=cast[[5]]\n",
    "    cast.reset_index(inplace=True)\n",
    "    cast=cast.rename(columns={5:\"Actors\"})\n",
    "    cast=cast.drop([\"index\"],axis=1)\n",
    "    cast[\"Actors\"]=cast[\"Actors\"].astype(str)\n",
    "\n",
    "    cast=cast.T\n",
    "    cast=cast.apply(lambda x: ''.join(x.astype(str)), axis=1)\n",
    "    cast=pd.DataFrame(cast)\n",
    "\n",
    "    return cast"
   ]
  },
  {
   "cell_type": "code",
   "execution_count": 8,
   "metadata": {},
   "outputs": [],
   "source": [
    "cast=pd.DataFrame()\n",
    "cast=pd.concat(list(map(lambda i: Cast(i), data)))\n"
   ]
  },
  {
   "cell_type": "code",
   "execution_count": 9,
   "metadata": {},
   "outputs": [
    {
     "data": {
      "text/html": [
       "<div>\n",
       "<style scoped>\n",
       "    .dataframe tbody tr th:only-of-type {\n",
       "        vertical-align: middle;\n",
       "    }\n",
       "\n",
       "    .dataframe tbody tr th {\n",
       "        vertical-align: top;\n",
       "    }\n",
       "\n",
       "    .dataframe thead th {\n",
       "        text-align: right;\n",
       "    }\n",
       "</style>\n",
       "<table border=\"1\" class=\"dataframe\">\n",
       "  <thead>\n",
       "    <tr style=\"text-align: right;\">\n",
       "      <th></th>\n",
       "      <th>Actor</th>\n",
       "    </tr>\n",
       "  </thead>\n",
       "  <tbody>\n",
       "    <tr>\n",
       "      <th>0</th>\n",
       "      <td>'Tom Hanks'</td>\n",
       "    </tr>\n",
       "    <tr>\n",
       "      <th>1</th>\n",
       "      <td>'Robin Williams'</td>\n",
       "    </tr>\n",
       "    <tr>\n",
       "      <th>2</th>\n",
       "      <td>'Walter Matthau'</td>\n",
       "    </tr>\n",
       "  </tbody>\n",
       "</table>\n",
       "</div>"
      ],
      "text/plain": [
       "               Actor\n",
       "0        'Tom Hanks'\n",
       "1   'Robin Williams'\n",
       "2   'Walter Matthau'"
      ]
     },
     "execution_count": 9,
     "metadata": {},
     "output_type": "execute_result"
    }
   ],
   "source": [
    "cast=cast.reset_index()\n",
    "cast=cast.drop(\"index\",axis=1)\n",
    "cast=cast.rename(columns={0:\"Actor\"})\n",
    "cast=cast[\"Actor\"]\n",
    "cast=pd.DataFrame(cast)\n",
    "cast.head(3)"
   ]
  },
  {
   "cell_type": "markdown",
   "metadata": {},
   "source": [
    "## Desanidado de la columna Crew"
   ]
  },
  {
   "cell_type": "code",
   "execution_count": 10,
   "metadata": {},
   "outputs": [],
   "source": [
    "data=df[\"crew\"]\n",
    "data=data.str.replace(\"[]\",\" \\'credit_id\\': null ,\\'department\\': null,\\'gender\\': null, \\'id\\': null,\\'job\\': null,\\'name\\': null, \\'profile_path\\': null\")"
   ]
  },
  {
   "cell_type": "code",
   "execution_count": 11,
   "metadata": {},
   "outputs": [],
   "source": [
    "data=data.str.replace(\"{\",\"\")\n",
    "data=data.str.replace(\"[\",\"\")\n",
    "data=data.str.replace(\"]\",\"\")\n",
    "data=data.str.replace(\"\\'credit_id\\':\",\"\")\n",
    "data=data.str.replace(\"\\'department\\':\",\"\")\n",
    "data=data.str.replace(\"\\'gender\\':\",\"\")\n",
    "data=data.str.replace(\"\\'name\\':\",\"\")\n",
    "data=data.str.replace(\" \\'id\\':\",\"\")\n",
    "data=data.str.replace(\"\\'name\\':\",\"\")\n",
    "data=data.str.replace(\" \\'profile_path\\': \",\"\")\n"
   ]
  },
  {
   "cell_type": "code",
   "execution_count": 12,
   "metadata": {},
   "outputs": [],
   "source": [
    "def Separar_Crew(lista):\n",
    "    dat=lista.split(\"},\")\n",
    "    dat=pd.DataFrame(dat)\n",
    "    dat=dat\n",
    "   \n",
    "    return dat\n",
    "\n",
    "def fila_Crew(lista):\n",
    "    dat=lista.split(\",\")\n",
    "    dat=pd.DataFrame(dat)\n",
    "    dat=dat.T\n",
    "   \n",
    "    return dat"
   ]
  },
  {
   "cell_type": "code",
   "execution_count": 13,
   "metadata": {},
   "outputs": [],
   "source": [
    "def Director(x):\n",
    "    direc=Separar_Crew(x)\n",
    "    direc=direc[0]\n",
    "    direc=direc.str.replace(\"}\",\"\")\n",
    "\n",
    "    crew= pd.concat(list(map(lambda i: fila_Crew(i), direc)))\n",
    "\n",
    "    crew= crew[[4,5]]\n",
    "    crew.reset_index(inplace=True)\n",
    "    crew=crew.rename(columns={4:\"job\"})\n",
    "    crew=crew.drop([\"index\"],axis=1)\n",
    "    crew[\"job\"]=crew[\"job\"].astype(str)\n",
    "    crew.head()\n",
    "\n",
    "    resultado=crew.loc[crew[\"job\"]==\" 'job': 'Director'\"]\n",
    "    resultado=resultado[5]\n",
    "    resultado=pd.DataFrame(resultado)\n",
    "    resultado=resultado.T\n",
    "    resultado[\"Director\"] =resultado.apply(lambda x: ''.join(x.astype(str)), axis=1)\n",
    "    resultado=resultado[\"Director\"]\n",
    "    resultado=pd.DataFrame(resultado)\n",
    "    \n",
    "    return resultado"
   ]
  },
  {
   "cell_type": "code",
   "execution_count": 14,
   "metadata": {},
   "outputs": [],
   "source": [
    "Direc=pd.DataFrame()\n",
    "Direc=pd.concat(list(map(lambda i: Director(i), data)))\n"
   ]
  },
  {
   "cell_type": "code",
   "execution_count": 15,
   "metadata": {},
   "outputs": [],
   "source": [
    "Direc=Direc.reset_index()\n",
    "Direc=Direc.drop(\"index\",axis=1)\n",
    "Direc=Direc[\"Director\"]\n",
    "Direc=pd.DataFrame(Direc)\n"
   ]
  },
  {
   "cell_type": "markdown",
   "metadata": {},
   "source": [
    "## Una ves desanidada las columnas las concatenamos para que quede un archivo para seguir trabajando con el mismo"
   ]
  },
  {
   "cell_type": "code",
   "execution_count": 16,
   "metadata": {},
   "outputs": [],
   "source": [
    "credit=pd.concat([df,cast,Direc],axis=1)\n",
    "credit=credit[[\"id\",\"Actor\",\"Director\"]]\n"
   ]
  },
  {
   "cell_type": "code",
   "execution_count": 17,
   "metadata": {},
   "outputs": [
    {
     "data": {
      "text/html": [
       "<div>\n",
       "<style scoped>\n",
       "    .dataframe tbody tr th:only-of-type {\n",
       "        vertical-align: middle;\n",
       "    }\n",
       "\n",
       "    .dataframe tbody tr th {\n",
       "        vertical-align: top;\n",
       "    }\n",
       "\n",
       "    .dataframe thead th {\n",
       "        text-align: right;\n",
       "    }\n",
       "</style>\n",
       "<table border=\"1\" class=\"dataframe\">\n",
       "  <thead>\n",
       "    <tr style=\"text-align: right;\">\n",
       "      <th></th>\n",
       "      <th>id</th>\n",
       "      <th>Actor</th>\n",
       "      <th>Director</th>\n",
       "    </tr>\n",
       "  </thead>\n",
       "  <tbody>\n",
       "    <tr>\n",
       "      <th>0</th>\n",
       "      <td>862</td>\n",
       "      <td>'Tom Hanks'</td>\n",
       "      <td>'John Lasseter'</td>\n",
       "    </tr>\n",
       "    <tr>\n",
       "      <th>1</th>\n",
       "      <td>8844</td>\n",
       "      <td>'Robin Williams'</td>\n",
       "      <td>'Joe Johnston'</td>\n",
       "    </tr>\n",
       "    <tr>\n",
       "      <th>2</th>\n",
       "      <td>15602</td>\n",
       "      <td>'Walter Matthau'</td>\n",
       "      <td>'Howard Deutch'</td>\n",
       "    </tr>\n",
       "    <tr>\n",
       "      <th>3</th>\n",
       "      <td>31357</td>\n",
       "      <td>'Whitney Houston'</td>\n",
       "      <td>'Forest Whitaker'</td>\n",
       "    </tr>\n",
       "    <tr>\n",
       "      <th>4</th>\n",
       "      <td>11862</td>\n",
       "      <td>'Steve Martin'</td>\n",
       "      <td>'Charles Shyer'</td>\n",
       "    </tr>\n",
       "    <tr>\n",
       "      <th>...</th>\n",
       "      <td>...</td>\n",
       "      <td>...</td>\n",
       "      <td>...</td>\n",
       "    </tr>\n",
       "    <tr>\n",
       "      <th>45471</th>\n",
       "      <td>439050</td>\n",
       "      <td>'Leila Hatami'</td>\n",
       "      <td>'Hamid Nematollah'</td>\n",
       "    </tr>\n",
       "    <tr>\n",
       "      <th>45472</th>\n",
       "      <td>111109</td>\n",
       "      <td>'Angel Aquino'</td>\n",
       "      <td>'Lav Diaz'</td>\n",
       "    </tr>\n",
       "    <tr>\n",
       "      <th>45473</th>\n",
       "      <td>67758</td>\n",
       "      <td>'Erika Eleniak'</td>\n",
       "      <td>'Mark L. Lester'</td>\n",
       "    </tr>\n",
       "    <tr>\n",
       "      <th>45474</th>\n",
       "      <td>227506</td>\n",
       "      <td>'Iwan Mosschuchin'</td>\n",
       "      <td>'Yakov Protazanov'</td>\n",
       "    </tr>\n",
       "    <tr>\n",
       "      <th>45475</th>\n",
       "      <td>461257</td>\n",
       "      <td>null</td>\n",
       "      <td>'Daisy Asquith'</td>\n",
       "    </tr>\n",
       "  </tbody>\n",
       "</table>\n",
       "<p>45476 rows × 3 columns</p>\n",
       "</div>"
      ],
      "text/plain": [
       "           id                Actor              Director\n",
       "0         862          'Tom Hanks'       'John Lasseter'\n",
       "1        8844     'Robin Williams'        'Joe Johnston'\n",
       "2       15602     'Walter Matthau'       'Howard Deutch'\n",
       "3       31357    'Whitney Houston'     'Forest Whitaker'\n",
       "4       11862       'Steve Martin'       'Charles Shyer'\n",
       "...       ...                  ...                   ...\n",
       "45471  439050       'Leila Hatami'    'Hamid Nematollah'\n",
       "45472  111109       'Angel Aquino'            'Lav Diaz'\n",
       "45473   67758      'Erika Eleniak'      'Mark L. Lester'\n",
       "45474  227506   'Iwan Mosschuchin'    'Yakov Protazanov'\n",
       "45475  461257                 null       'Daisy Asquith'\n",
       "\n",
       "[45476 rows x 3 columns]"
      ]
     },
     "execution_count": 17,
     "metadata": {},
     "output_type": "execute_result"
    }
   ],
   "source": [
    "credit"
   ]
  },
  {
   "cell_type": "code",
   "execution_count": 18,
   "metadata": {},
   "outputs": [],
   "source": [
    "credit.to_csv(\"../03 - Armado el Completo/Credit_desani.csv\",index=False)"
   ]
  }
 ],
 "metadata": {
  "kernelspec": {
   "display_name": "henry",
   "language": "python",
   "name": "python3"
  },
  "language_info": {
   "codemirror_mode": {
    "name": "ipython",
    "version": 3
   },
   "file_extension": ".py",
   "mimetype": "text/x-python",
   "name": "python",
   "nbconvert_exporter": "python",
   "pygments_lexer": "ipython3",
   "version": "3.11.4"
  },
  "orig_nbformat": 4
 },
 "nbformat": 4,
 "nbformat_minor": 2
}
