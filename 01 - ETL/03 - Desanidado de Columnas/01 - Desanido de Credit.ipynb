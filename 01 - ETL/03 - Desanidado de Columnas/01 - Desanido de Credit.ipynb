{
 "cells": [
  {
   "cell_type": "code",
   "execution_count": 4,
   "metadata": {},
   "outputs": [],
   "source": [
    "import pandas as pd\n",
    "import ast\n",
    "import numpy as np\n",
    "df=pd.read_csv(\"desa_credits.csv\")"
   ]
  },
  {
   "cell_type": "markdown",
   "metadata": {},
   "source": [
    "Desanidando el CSV Credits\n",
    "\n",
    "Comenzamos con el Cast\n",
    "\n",
    "Solo los actores "
   ]
  },
  {
   "cell_type": "code",
   "execution_count": 5,
   "metadata": {},
   "outputs": [],
   "source": [
    "#Relleno los Nulos y separo la Columna Cast\n",
    "\n",
    "data=df[\"cast\"]\n",
    "data=data.str.replace(\"[]\",\" 'cast_id': null, 'character': null, 'credit_id': null, 'gender': null, 'id': null, 'name': null, 'order': null, 'profile_path': null'\")"
   ]
  },
  {
   "cell_type": "code",
   "execution_count": 6,
   "metadata": {},
   "outputs": [],
   "source": [
    "#Reemplazamos argumentos para poder separar y extraer las variabble que necesitamos\n",
    "\n",
    "\n",
    "data=data.str.replace(\"{\",\" \")\n",
    "data=data.str.replace(\"[\",\"\")\n",
    "data=data.str.replace(\"]\",\"\")\n",
    "data=data.str.replace(\"'cast_id':\",\"\")\n",
    "data=data.str.replace(\"'character':\",\"\")\n",
    "data=data.str.replace(\"'credit_id':\",\"\")\n",
    "data=data.str.replace(\"'gender':\",\"\")\n",
    "data=data.str.replace(\"'id':\",\"\")\n",
    "data=data.str.replace(\"'name':\",\"\")\n",
    "data=data.str.replace(\"'order':\",\"\")\n",
    "data=data.str.replace(\"'profile_path':\",\"\")\n"
   ]
  },
  {
   "cell_type": "code",
   "execution_count": 7,
   "metadata": {},
   "outputs": [],
   "source": [
    "#Creamos una funcion para poder separar los diccionarios de las filas\n",
    "\n",
    "def Separar(lista):\n",
    "    dat=lista.split(\"},\")\n",
    "    dat=pd.DataFrame(dat)\n",
    "    dat=dat\n",
    "   \n",
    "    return dat\n",
    "\n",
    "#Creamos funcion para separa en columnas cada variable\n",
    "\n",
    "def fila(lista):\n",
    "    dat=lista.split(\", \")\n",
    "    dat=pd.DataFrame(dat)\n",
    "    dat=dat.T\n",
    "   \n",
    "    return dat"
   ]
  },
  {
   "cell_type": "code",
   "execution_count": 8,
   "metadata": {},
   "outputs": [],
   "source": [
    "#Funcion por la cual vamos a hacer la Limpieza y quedarnos solamente con los actores\n",
    "\n",
    "def Cast(x):\n",
    "    var=x\n",
    "    cast=Separar(var)\n",
    "    cast=cast[0]\n",
    "    cast=cast.str.replace(\"} \",\"\")\n",
    "    cast=pd.concat(list(map(lambda i: fila(i), cast)))\n",
    "\n",
    "    cast=cast[[5]]\n",
    "    cast.reset_index(inplace=True)\n",
    "    cast=cast.rename(columns={5:\"Actors\"})\n",
    "    cast=cast.drop([\"index\"],axis=1)\n",
    "    cast[\"Actors\"]=cast[\"Actors\"].astype(str)\n",
    "\n",
    "    cast=cast.T\n",
    "    cast=cast.apply(lambda x: ''.join(x.astype(str)), axis=1)\n",
    "    cast=pd.DataFrame(cast)\n",
    "\n",
    "    return cast"
   ]
  },
  {
   "cell_type": "code",
   "execution_count": 9,
   "metadata": {},
   "outputs": [
    {
     "data": {
      "text/html": [
       "<div>\n",
       "<style scoped>\n",
       "    .dataframe tbody tr th:only-of-type {\n",
       "        vertical-align: middle;\n",
       "    }\n",
       "\n",
       "    .dataframe tbody tr th {\n",
       "        vertical-align: top;\n",
       "    }\n",
       "\n",
       "    .dataframe thead th {\n",
       "        text-align: right;\n",
       "    }\n",
       "</style>\n",
       "<table border=\"1\" class=\"dataframe\">\n",
       "  <thead>\n",
       "    <tr style=\"text-align: right;\">\n",
       "      <th></th>\n",
       "      <th>0</th>\n",
       "    </tr>\n",
       "  </thead>\n",
       "  <tbody>\n",
       "    <tr>\n",
       "      <th>Actors</th>\n",
       "      <td>'Tom Hanks' 'Tim Allen' 'Don Rickles' 'Jim Va...</td>\n",
       "    </tr>\n",
       "    <tr>\n",
       "      <th>Actors</th>\n",
       "      <td>'Robin Williams' 'Jonathan Hyde' 'Kirsten Dun...</td>\n",
       "    </tr>\n",
       "    <tr>\n",
       "      <th>Actors</th>\n",
       "      <td>'Walter Matthau' 'Jack Lemmon' 'Ann-Margret' ...</td>\n",
       "    </tr>\n",
       "    <tr>\n",
       "      <th>Actors</th>\n",
       "      <td>'Whitney Houston' 'Angela Bassett' 'Loretta D...</td>\n",
       "    </tr>\n",
       "    <tr>\n",
       "      <th>Actors</th>\n",
       "      <td>'Steve Martin' 'Diane Keaton' 'Martin Short' ...</td>\n",
       "    </tr>\n",
       "    <tr>\n",
       "      <th>...</th>\n",
       "      <td>...</td>\n",
       "    </tr>\n",
       "    <tr>\n",
       "      <th>Actors</th>\n",
       "      <td>'Leila Hatami' 'Kourosh Tahami' 'Elham Korda'</td>\n",
       "    </tr>\n",
       "    <tr>\n",
       "      <th>Actors</th>\n",
       "      <td>'Angel Aquino' 'Perry Dizon' 'Hazel Orencio' ...</td>\n",
       "    </tr>\n",
       "    <tr>\n",
       "      <th>Actors</th>\n",
       "      <td>'Erika Eleniak' 'Adam Baldwin' 'Julie du Page...</td>\n",
       "    </tr>\n",
       "    <tr>\n",
       "      <th>Actors</th>\n",
       "      <td>'Iwan Mosschuchin' 'Nathalie Lissenko' 'Pavel...</td>\n",
       "    </tr>\n",
       "    <tr>\n",
       "      <th>Actors</th>\n",
       "      <td>null</td>\n",
       "    </tr>\n",
       "  </tbody>\n",
       "</table>\n",
       "<p>45476 rows × 1 columns</p>\n",
       "</div>"
      ],
      "text/plain": [
       "                                                        0\n",
       "Actors   'Tom Hanks' 'Tim Allen' 'Don Rickles' 'Jim Va...\n",
       "Actors   'Robin Williams' 'Jonathan Hyde' 'Kirsten Dun...\n",
       "Actors   'Walter Matthau' 'Jack Lemmon' 'Ann-Margret' ...\n",
       "Actors   'Whitney Houston' 'Angela Bassett' 'Loretta D...\n",
       "Actors   'Steve Martin' 'Diane Keaton' 'Martin Short' ...\n",
       "...                                                   ...\n",
       "Actors      'Leila Hatami' 'Kourosh Tahami' 'Elham Korda'\n",
       "Actors   'Angel Aquino' 'Perry Dizon' 'Hazel Orencio' ...\n",
       "Actors   'Erika Eleniak' 'Adam Baldwin' 'Julie du Page...\n",
       "Actors   'Iwan Mosschuchin' 'Nathalie Lissenko' 'Pavel...\n",
       "Actors                                               null\n",
       "\n",
       "[45476 rows x 1 columns]"
      ]
     },
     "execution_count": 9,
     "metadata": {},
     "output_type": "execute_result"
    }
   ],
   "source": [
    "cast=pd.DataFrame()\n",
    "cast=pd.concat(list(map(lambda i: Cast(i), data)))\n",
    "cast"
   ]
  },
  {
   "cell_type": "code",
   "execution_count": 10,
   "metadata": {},
   "outputs": [
    {
     "data": {
      "text/html": [
       "<div>\n",
       "<style scoped>\n",
       "    .dataframe tbody tr th:only-of-type {\n",
       "        vertical-align: middle;\n",
       "    }\n",
       "\n",
       "    .dataframe tbody tr th {\n",
       "        vertical-align: top;\n",
       "    }\n",
       "\n",
       "    .dataframe thead th {\n",
       "        text-align: right;\n",
       "    }\n",
       "</style>\n",
       "<table border=\"1\" class=\"dataframe\">\n",
       "  <thead>\n",
       "    <tr style=\"text-align: right;\">\n",
       "      <th></th>\n",
       "      <th>Actor</th>\n",
       "    </tr>\n",
       "  </thead>\n",
       "  <tbody>\n",
       "    <tr>\n",
       "      <th>0</th>\n",
       "      <td>'Tom Hanks' 'Tim Allen' 'Don Rickles' 'Jim Va...</td>\n",
       "    </tr>\n",
       "    <tr>\n",
       "      <th>1</th>\n",
       "      <td>'Robin Williams' 'Jonathan Hyde' 'Kirsten Dun...</td>\n",
       "    </tr>\n",
       "    <tr>\n",
       "      <th>2</th>\n",
       "      <td>'Walter Matthau' 'Jack Lemmon' 'Ann-Margret' ...</td>\n",
       "    </tr>\n",
       "  </tbody>\n",
       "</table>\n",
       "</div>"
      ],
      "text/plain": [
       "                                               Actor\n",
       "0   'Tom Hanks' 'Tim Allen' 'Don Rickles' 'Jim Va...\n",
       "1   'Robin Williams' 'Jonathan Hyde' 'Kirsten Dun...\n",
       "2   'Walter Matthau' 'Jack Lemmon' 'Ann-Margret' ..."
      ]
     },
     "execution_count": 10,
     "metadata": {},
     "output_type": "execute_result"
    }
   ],
   "source": [
    "cast=cast.reset_index()\n",
    "cast=cast.drop(\"index\",axis=1)\n",
    "cast=cast.rename(columns={0:\"Actor\"})\n",
    "cast=cast[\"Actor\"]\n",
    "cast=pd.DataFrame(cast)\n",
    "cast.head(3)"
   ]
  },
  {
   "cell_type": "markdown",
   "metadata": {},
   "source": [
    "Desanidando el CSV Credits\n",
    "\n",
    "Seguimos con el Crew\n",
    "\n",
    "Solo los actores "
   ]
  },
  {
   "cell_type": "code",
   "execution_count": 11,
   "metadata": {},
   "outputs": [],
   "source": [
    "data=df[\"crew\"]\n",
    "data=data.str.replace(\"[]\",\" \\'credit_id\\': null ,\\'department\\': null,\\'gender\\': null, \\'id\\': null,\\'job\\': null,\\'name\\': null, \\'profile_path\\': null\")"
   ]
  },
  {
   "cell_type": "code",
   "execution_count": 12,
   "metadata": {},
   "outputs": [],
   "source": [
    "data=data.str.replace(\"{\",\"\")\n",
    "data=data.str.replace(\"[\",\"\")\n",
    "data=data.str.replace(\"]\",\"\")\n",
    "data=data.str.replace(\"\\'credit_id\\':\",\"\")\n",
    "data=data.str.replace(\"\\'department\\':\",\"\")\n",
    "data=data.str.replace(\"\\'gender\\':\",\"\")\n",
    "data=data.str.replace(\"\\'name\\':\",\"\")\n",
    "data=data.str.replace(\" \\'id\\':\",\"\")\n",
    "data=data.str.replace(\"\\'name\\':\",\"\")\n",
    "data=data.str.replace(\" \\'profile_path\\': \",\"\")\n"
   ]
  },
  {
   "cell_type": "code",
   "execution_count": 13,
   "metadata": {},
   "outputs": [],
   "source": [
    "def Separar_Crew(lista):\n",
    "    dat=lista.split(\"},\")\n",
    "    dat=pd.DataFrame(dat)\n",
    "    dat=dat\n",
    "   \n",
    "    return dat"
   ]
  },
  {
   "cell_type": "code",
   "execution_count": 14,
   "metadata": {},
   "outputs": [],
   "source": [
    "def fila_Crew(lista):\n",
    "    dat=lista.split(\",\")\n",
    "    dat=pd.DataFrame(dat)\n",
    "    dat=dat.T\n",
    "   \n",
    "    return dat"
   ]
  },
  {
   "cell_type": "code",
   "execution_count": 15,
   "metadata": {},
   "outputs": [],
   "source": [
    "def Director(x):\n",
    "    direc=Separar_Crew(x)\n",
    "    direc=direc[0]\n",
    "    direc=direc.str.replace(\"}\",\"\")\n",
    "\n",
    "    crew= pd.concat(list(map(lambda i: fila_Crew(i), direc)))\n",
    "\n",
    "    crew= crew[[4,5]]\n",
    "    crew.reset_index(inplace=True)\n",
    "    crew=crew.rename(columns={4:\"job\"})\n",
    "    crew=crew.drop([\"index\"],axis=1)\n",
    "    crew[\"job\"]=crew[\"job\"].astype(str)\n",
    "    crew.head()\n",
    "\n",
    "    resultado=crew.loc[crew[\"job\"]==\" 'job': 'Director'\"]\n",
    "    resultado=resultado[5]\n",
    "    resultado=pd.DataFrame(resultado)\n",
    "    resultado=resultado.T\n",
    "    resultado[\"Director\"] =resultado.apply(lambda x: ''.join(x.astype(str)), axis=1)\n",
    "    resultado=resultado[\"Director\"]\n",
    "    resultado=pd.DataFrame(resultado)\n",
    "    \n",
    "    return resultado"
   ]
  },
  {
   "cell_type": "code",
   "execution_count": 16,
   "metadata": {},
   "outputs": [],
   "source": [
    "Direc=pd.DataFrame()\n",
    "Direc=pd.concat(list(map(lambda i: Director(i), data)))\n"
   ]
  },
  {
   "cell_type": "code",
   "execution_count": 17,
   "metadata": {},
   "outputs": [
    {
     "data": {
      "text/html": [
       "<div>\n",
       "<style scoped>\n",
       "    .dataframe tbody tr th:only-of-type {\n",
       "        vertical-align: middle;\n",
       "    }\n",
       "\n",
       "    .dataframe tbody tr th {\n",
       "        vertical-align: top;\n",
       "    }\n",
       "\n",
       "    .dataframe thead th {\n",
       "        text-align: right;\n",
       "    }\n",
       "</style>\n",
       "<table border=\"1\" class=\"dataframe\">\n",
       "  <thead>\n",
       "    <tr style=\"text-align: right;\">\n",
       "      <th></th>\n",
       "      <th>Director</th>\n",
       "    </tr>\n",
       "  </thead>\n",
       "  <tbody>\n",
       "    <tr>\n",
       "      <th>0</th>\n",
       "      <td>'John Lasseter'</td>\n",
       "    </tr>\n",
       "    <tr>\n",
       "      <th>1</th>\n",
       "      <td>'Joe Johnston'</td>\n",
       "    </tr>\n",
       "    <tr>\n",
       "      <th>2</th>\n",
       "      <td>'Howard Deutch'</td>\n",
       "    </tr>\n",
       "  </tbody>\n",
       "</table>\n",
       "</div>"
      ],
      "text/plain": [
       "            Director\n",
       "0    'John Lasseter'\n",
       "1     'Joe Johnston'\n",
       "2    'Howard Deutch'"
      ]
     },
     "execution_count": 17,
     "metadata": {},
     "output_type": "execute_result"
    }
   ],
   "source": [
    "Direc=Direc.reset_index()\n",
    "Direc=Direc.drop(\"index\",axis=1)\n",
    "Direc=Direc[\"Director\"]\n",
    "Direc=pd.DataFrame(Direc)\n",
    "Direc.head(3)"
   ]
  },
  {
   "cell_type": "markdown",
   "metadata": {},
   "source": []
  },
  {
   "cell_type": "code",
   "execution_count": 19,
   "metadata": {},
   "outputs": [
    {
     "ename": "KeyError",
     "evalue": "\"['id'] not in index\"",
     "output_type": "error",
     "traceback": [
      "\u001b[1;31m---------------------------------------------------------------------------\u001b[0m",
      "\u001b[1;31mKeyError\u001b[0m                                  Traceback (most recent call last)",
      "Cell \u001b[1;32mIn[19], line 2\u001b[0m\n\u001b[0;32m      1\u001b[0m credit\u001b[39m=\u001b[39mpd\u001b[39m.\u001b[39mconcat([df,cast,Direc],axis\u001b[39m=\u001b[39m\u001b[39m1\u001b[39m)\n\u001b[1;32m----> 2\u001b[0m credit\u001b[39m=\u001b[39mcredit[[\u001b[39m\"\u001b[39;49m\u001b[39mid\u001b[39;49m\u001b[39m\"\u001b[39;49m,\u001b[39m\"\u001b[39;49m\u001b[39mActor\u001b[39;49m\u001b[39m\"\u001b[39;49m,\u001b[39m\"\u001b[39;49m\u001b[39mDirector\u001b[39;49m\u001b[39m\"\u001b[39;49m]]\n",
      "File \u001b[1;32mc:\\Users\\victo\\OneDrive\\Escritorio\\Proyecto_Henry\\henry\\Lib\\site-packages\\pandas\\core\\frame.py:3767\u001b[0m, in \u001b[0;36mDataFrame.__getitem__\u001b[1;34m(self, key)\u001b[0m\n\u001b[0;32m   3765\u001b[0m     \u001b[39mif\u001b[39;00m is_iterator(key):\n\u001b[0;32m   3766\u001b[0m         key \u001b[39m=\u001b[39m \u001b[39mlist\u001b[39m(key)\n\u001b[1;32m-> 3767\u001b[0m     indexer \u001b[39m=\u001b[39m \u001b[39mself\u001b[39;49m\u001b[39m.\u001b[39;49mcolumns\u001b[39m.\u001b[39;49m_get_indexer_strict(key, \u001b[39m\"\u001b[39;49m\u001b[39mcolumns\u001b[39;49m\u001b[39m\"\u001b[39;49m)[\u001b[39m1\u001b[39m]\n\u001b[0;32m   3769\u001b[0m \u001b[39m# take() does not accept boolean indexers\u001b[39;00m\n\u001b[0;32m   3770\u001b[0m \u001b[39mif\u001b[39;00m \u001b[39mgetattr\u001b[39m(indexer, \u001b[39m\"\u001b[39m\u001b[39mdtype\u001b[39m\u001b[39m\"\u001b[39m, \u001b[39mNone\u001b[39;00m) \u001b[39m==\u001b[39m \u001b[39mbool\u001b[39m:\n",
      "File \u001b[1;32mc:\\Users\\victo\\OneDrive\\Escritorio\\Proyecto_Henry\\henry\\Lib\\site-packages\\pandas\\core\\indexes\\base.py:5877\u001b[0m, in \u001b[0;36mIndex._get_indexer_strict\u001b[1;34m(self, key, axis_name)\u001b[0m\n\u001b[0;32m   5874\u001b[0m \u001b[39melse\u001b[39;00m:\n\u001b[0;32m   5875\u001b[0m     keyarr, indexer, new_indexer \u001b[39m=\u001b[39m \u001b[39mself\u001b[39m\u001b[39m.\u001b[39m_reindex_non_unique(keyarr)\n\u001b[1;32m-> 5877\u001b[0m \u001b[39mself\u001b[39;49m\u001b[39m.\u001b[39;49m_raise_if_missing(keyarr, indexer, axis_name)\n\u001b[0;32m   5879\u001b[0m keyarr \u001b[39m=\u001b[39m \u001b[39mself\u001b[39m\u001b[39m.\u001b[39mtake(indexer)\n\u001b[0;32m   5880\u001b[0m \u001b[39mif\u001b[39;00m \u001b[39misinstance\u001b[39m(key, Index):\n\u001b[0;32m   5881\u001b[0m     \u001b[39m# GH 42790 - Preserve name from an Index\u001b[39;00m\n",
      "File \u001b[1;32mc:\\Users\\victo\\OneDrive\\Escritorio\\Proyecto_Henry\\henry\\Lib\\site-packages\\pandas\\core\\indexes\\base.py:5941\u001b[0m, in \u001b[0;36mIndex._raise_if_missing\u001b[1;34m(self, key, indexer, axis_name)\u001b[0m\n\u001b[0;32m   5938\u001b[0m     \u001b[39mraise\u001b[39;00m \u001b[39mKeyError\u001b[39;00m(\u001b[39mf\u001b[39m\u001b[39m\"\u001b[39m\u001b[39mNone of [\u001b[39m\u001b[39m{\u001b[39;00mkey\u001b[39m}\u001b[39;00m\u001b[39m] are in the [\u001b[39m\u001b[39m{\u001b[39;00maxis_name\u001b[39m}\u001b[39;00m\u001b[39m]\u001b[39m\u001b[39m\"\u001b[39m)\n\u001b[0;32m   5940\u001b[0m not_found \u001b[39m=\u001b[39m \u001b[39mlist\u001b[39m(ensure_index(key)[missing_mask\u001b[39m.\u001b[39mnonzero()[\u001b[39m0\u001b[39m]]\u001b[39m.\u001b[39munique())\n\u001b[1;32m-> 5941\u001b[0m \u001b[39mraise\u001b[39;00m \u001b[39mKeyError\u001b[39;00m(\u001b[39mf\u001b[39m\u001b[39m\"\u001b[39m\u001b[39m{\u001b[39;00mnot_found\u001b[39m}\u001b[39;00m\u001b[39m not in index\u001b[39m\u001b[39m\"\u001b[39m)\n",
      "\u001b[1;31mKeyError\u001b[0m: \"['id'] not in index\""
     ]
    }
   ],
   "source": [
    "credit=pd.concat([df,cast,Direc],axis=1)\n",
    "credit=credit[[\"id\",\"Actor\",\"Director\"]]\n"
   ]
  },
  {
   "cell_type": "code",
   "execution_count": null,
   "metadata": {},
   "outputs": [
    {
     "data": {
      "text/html": [
       "<div>\n",
       "<style scoped>\n",
       "    .dataframe tbody tr th:only-of-type {\n",
       "        vertical-align: middle;\n",
       "    }\n",
       "\n",
       "    .dataframe tbody tr th {\n",
       "        vertical-align: top;\n",
       "    }\n",
       "\n",
       "    .dataframe thead th {\n",
       "        text-align: right;\n",
       "    }\n",
       "</style>\n",
       "<table border=\"1\" class=\"dataframe\">\n",
       "  <thead>\n",
       "    <tr style=\"text-align: right;\">\n",
       "      <th></th>\n",
       "      <th>id</th>\n",
       "      <th>Actor</th>\n",
       "      <th>Director</th>\n",
       "    </tr>\n",
       "  </thead>\n",
       "  <tbody>\n",
       "    <tr>\n",
       "      <th>0</th>\n",
       "      <td>862</td>\n",
       "      <td>'Tom Hanks' 'Tim Allen' 'Don Rickles' 'Jim Va...</td>\n",
       "      <td>'John Lasseter'</td>\n",
       "    </tr>\n",
       "    <tr>\n",
       "      <th>1</th>\n",
       "      <td>8844</td>\n",
       "      <td>'Robin Williams' 'Jonathan Hyde' 'Kirsten Dun...</td>\n",
       "      <td>'Joe Johnston'</td>\n",
       "    </tr>\n",
       "    <tr>\n",
       "      <th>2</th>\n",
       "      <td>15602</td>\n",
       "      <td>'Walter Matthau' 'Jack Lemmon' 'Ann-Margret' ...</td>\n",
       "      <td>'Howard Deutch'</td>\n",
       "    </tr>\n",
       "    <tr>\n",
       "      <th>3</th>\n",
       "      <td>31357</td>\n",
       "      <td>'Whitney Houston' 'Angela Bassett' 'Loretta D...</td>\n",
       "      <td>'Forest Whitaker'</td>\n",
       "    </tr>\n",
       "    <tr>\n",
       "      <th>4</th>\n",
       "      <td>11862</td>\n",
       "      <td>'Steve Martin' 'Diane Keaton' 'Martin Short' ...</td>\n",
       "      <td>'Charles Shyer'</td>\n",
       "    </tr>\n",
       "    <tr>\n",
       "      <th>...</th>\n",
       "      <td>...</td>\n",
       "      <td>...</td>\n",
       "      <td>...</td>\n",
       "    </tr>\n",
       "    <tr>\n",
       "      <th>45471</th>\n",
       "      <td>439050</td>\n",
       "      <td>'Leila Hatami' 'Kourosh Tahami' 'Elham Korda'</td>\n",
       "      <td>'Hamid Nematollah'</td>\n",
       "    </tr>\n",
       "    <tr>\n",
       "      <th>45472</th>\n",
       "      <td>111109</td>\n",
       "      <td>'Angel Aquino' 'Perry Dizon' 'Hazel Orencio' ...</td>\n",
       "      <td>'Lav Diaz'</td>\n",
       "    </tr>\n",
       "    <tr>\n",
       "      <th>45473</th>\n",
       "      <td>67758</td>\n",
       "      <td>'Erika Eleniak' 'Adam Baldwin' 'Julie du Page...</td>\n",
       "      <td>'Mark L. Lester'</td>\n",
       "    </tr>\n",
       "    <tr>\n",
       "      <th>45474</th>\n",
       "      <td>227506</td>\n",
       "      <td>'Iwan Mosschuchin' 'Nathalie Lissenko' 'Pavel...</td>\n",
       "      <td>'Yakov Protazanov'</td>\n",
       "    </tr>\n",
       "    <tr>\n",
       "      <th>45475</th>\n",
       "      <td>461257</td>\n",
       "      <td>null</td>\n",
       "      <td>'Daisy Asquith'</td>\n",
       "    </tr>\n",
       "  </tbody>\n",
       "</table>\n",
       "<p>45476 rows × 3 columns</p>\n",
       "</div>"
      ],
      "text/plain": [
       "           id                                              Actor  \\\n",
       "0         862   'Tom Hanks' 'Tim Allen' 'Don Rickles' 'Jim Va...   \n",
       "1        8844   'Robin Williams' 'Jonathan Hyde' 'Kirsten Dun...   \n",
       "2       15602   'Walter Matthau' 'Jack Lemmon' 'Ann-Margret' ...   \n",
       "3       31357   'Whitney Houston' 'Angela Bassett' 'Loretta D...   \n",
       "4       11862   'Steve Martin' 'Diane Keaton' 'Martin Short' ...   \n",
       "...       ...                                                ...   \n",
       "45471  439050      'Leila Hatami' 'Kourosh Tahami' 'Elham Korda'   \n",
       "45472  111109   'Angel Aquino' 'Perry Dizon' 'Hazel Orencio' ...   \n",
       "45473   67758   'Erika Eleniak' 'Adam Baldwin' 'Julie du Page...   \n",
       "45474  227506   'Iwan Mosschuchin' 'Nathalie Lissenko' 'Pavel...   \n",
       "45475  461257                                               null   \n",
       "\n",
       "                   Director  \n",
       "0           'John Lasseter'  \n",
       "1            'Joe Johnston'  \n",
       "2           'Howard Deutch'  \n",
       "3         'Forest Whitaker'  \n",
       "4           'Charles Shyer'  \n",
       "...                     ...  \n",
       "45471    'Hamid Nematollah'  \n",
       "45472            'Lav Diaz'  \n",
       "45473      'Mark L. Lester'  \n",
       "45474    'Yakov Protazanov'  \n",
       "45475       'Daisy Asquith'  \n",
       "\n",
       "[45476 rows x 3 columns]"
      ]
     },
     "execution_count": 32,
     "metadata": {},
     "output_type": "execute_result"
    }
   ],
   "source": [
    "credit"
   ]
  },
  {
   "cell_type": "code",
   "execution_count": null,
   "metadata": {},
   "outputs": [],
   "source": [
    "credit.to_csv(\"Credit_desani.csv\",index=False)"
   ]
  }
 ],
 "metadata": {
  "kernelspec": {
   "display_name": "henry",
   "language": "python",
   "name": "python3"
  },
  "language_info": {
   "codemirror_mode": {
    "name": "ipython",
    "version": 3
   },
   "file_extension": ".py",
   "mimetype": "text/x-python",
   "name": "python",
   "nbconvert_exporter": "python",
   "pygments_lexer": "ipython3",
   "version": "3.11.4"
  },
  "orig_nbformat": 4
 },
 "nbformat": 4,
 "nbformat_minor": 2
}
