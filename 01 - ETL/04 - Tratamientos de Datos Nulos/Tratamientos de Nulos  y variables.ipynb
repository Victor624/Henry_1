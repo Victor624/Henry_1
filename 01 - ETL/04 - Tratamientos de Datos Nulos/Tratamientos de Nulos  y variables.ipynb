{
 "cells": [
  {
   "attachments": {},
   "cell_type": "markdown",
   "metadata": {},
   "source": [
    "# Proceso de Transformacion del DataSets Preprocesado\n",
    "\n",
    "Limpiamos los Datos del Data set"
   ]
  },
  {
   "cell_type": "code",
   "execution_count": 1,
   "metadata": {},
   "outputs": [],
   "source": [
    "import pandas as pd\n",
    "import ast\n",
    "import numpy as np\n"
   ]
  },
  {
   "cell_type": "markdown",
   "metadata": {},
   "source": [
    "## Abrimos el Data y enpezamos a hacer ETL"
   ]
  },
  {
   "cell_type": "code",
   "execution_count": 2,
   "metadata": {},
   "outputs": [
    {
     "name": "stderr",
     "output_type": "stream",
     "text": [
      "C:\\Users\\Usuario\\AppData\\Local\\Temp\\ipykernel_12584\\3689963967.py:1: DtypeWarning: Columns (0,2,5,10,21) have mixed types. Specify dtype option on import or set low_memory=False.\n",
      "  Movies_Compl=pd.read_csv(\"Data_Preprocesado.csv\")\n"
     ]
    }
   ],
   "source": [
    "Movies_Compl=pd.read_csv(\"Data_Preprocesado.csv\")"
   ]
  },
  {
   "cell_type": "code",
   "execution_count": 3,
   "metadata": {},
   "outputs": [],
   "source": [
    "# Una de las tareas que se nos pidio fue que los valores nulos de los campos revenue, \n",
    "# budget deben ser rellenados por el número 0.\n",
    "\n",
    "Movies_Compl.dropna(subset=['release_date'], inplace=True)"
   ]
  },
  {
   "cell_type": "code",
   "execution_count": 4,
   "metadata": {},
   "outputs": [],
   "source": [
    "#Otra de las tareas que se nos asigno  que las columnas de fecha , deberán tener el formato AAAA-mm-dd, \n",
    "# además deberán crear la columna release_year donde extraerán el año de la fecha de estreno.\n",
    "\n",
    "Movies_Compl['release_date'] = pd.to_datetime(Movies_Compl['release_date'], errors='coerce')\n",
    "Movies_Compl['release_year'] = Movies_Compl['release_date'].dt.year\n",
    "Movies_Compl = Movies_Compl.drop(Movies_Compl[Movies_Compl['release_year'] <= 1920].index, axis=0)"
   ]
  },
  {
   "cell_type": "code",
   "execution_count": 5,
   "metadata": {},
   "outputs": [],
   "source": [
    "#Limpiamos los errores de la columna budget que nos hiba a inpedir hacer algunas funciones\n",
    "Movies_Compl[\"budget\"]= pd.to_numeric(Movies_Compl[\"budget\"], errors='coerce').fillna(0)"
   ]
  },
  {
   "cell_type": "code",
   "execution_count": 6,
   "metadata": {},
   "outputs": [
    {
     "data": {
      "text/plain": [
       "adult                        0\n",
       "belongs_to_collection    40522\n",
       "budget                       0\n",
       "genres                       0\n",
       "homepage                 37239\n",
       "id                           0\n",
       "imdb_id                     14\n",
       "original_language            9\n",
       "original_title               0\n",
       "overview                   940\n",
       "popularity                   2\n",
       "poster_path                323\n",
       "production_companies         0\n",
       "production_countries         0\n",
       "release_date                 3\n",
       "revenue                      3\n",
       "runtime                    249\n",
       "spoken_languages             3\n",
       "status                      82\n",
       "tagline                  24631\n",
       "title                        3\n",
       "video                        3\n",
       "vote_average                 3\n",
       "vote_count                   3\n",
       "id.1                         0\n",
       "Actor                        0\n",
       "Director                   866\n",
       "id_belong                    0\n",
       "name_belong                  3\n",
       "name_genres               2320\n",
       "id_genres                 2320\n",
       "name_Spoken               3733\n",
       "iso_639_1_Spoken          3610\n",
       "id_prod                  11708\n",
       "name_prod                11708\n",
       "iso_3166_1_Count          6148\n",
       "name_Count                6148\n",
       "release_year                 3\n",
       "dtype: int64"
      ]
     },
     "execution_count": 6,
     "metadata": {},
     "output_type": "execute_result"
    }
   ],
   "source": [
    "# Vemos la Cantidad de nulos y se justifica borrarlos o reemplazarla con algun valor \n",
    "# para no tener incovenientes con las funciones\n",
    "Movies_Compl.isnull().sum()"
   ]
  },
  {
   "cell_type": "code",
   "execution_count": 7,
   "metadata": {},
   "outputs": [],
   "source": [
    "#Creamos una columna para ver el retorno de cada pelicula.-\n",
    "\n",
    "Movies_Compl[\"Return\"]=Movies_Compl[\"revenue\"]/Movies_Compl[\"budget\"]"
   ]
  },
  {
   "cell_type": "code",
   "execution_count": 8,
   "metadata": {},
   "outputs": [
    {
     "data": {
      "text/html": [
       "<div>\n",
       "<style scoped>\n",
       "    .dataframe tbody tr th:only-of-type {\n",
       "        vertical-align: middle;\n",
       "    }\n",
       "\n",
       "    .dataframe tbody tr th {\n",
       "        vertical-align: top;\n",
       "    }\n",
       "\n",
       "    .dataframe thead th {\n",
       "        text-align: right;\n",
       "    }\n",
       "</style>\n",
       "<table border=\"1\" class=\"dataframe\">\n",
       "  <thead>\n",
       "    <tr style=\"text-align: right;\">\n",
       "      <th></th>\n",
       "      <th>adult</th>\n",
       "      <th>budget</th>\n",
       "      <th>id</th>\n",
       "      <th>imdb_id</th>\n",
       "      <th>original_language</th>\n",
       "      <th>overview</th>\n",
       "      <th>popularity</th>\n",
       "      <th>release_date</th>\n",
       "      <th>revenue</th>\n",
       "      <th>runtime</th>\n",
       "      <th>...</th>\n",
       "      <th>name_genres</th>\n",
       "      <th>id_genres</th>\n",
       "      <th>name_Spoken</th>\n",
       "      <th>iso_639_1_Spoken</th>\n",
       "      <th>id_prod</th>\n",
       "      <th>name_prod</th>\n",
       "      <th>iso_3166_1_Count</th>\n",
       "      <th>name_Count</th>\n",
       "      <th>release_year</th>\n",
       "      <th>Return</th>\n",
       "    </tr>\n",
       "  </thead>\n",
       "  <tbody>\n",
       "    <tr>\n",
       "      <th>0</th>\n",
       "      <td>False</td>\n",
       "      <td>30000000.0</td>\n",
       "      <td>862</td>\n",
       "      <td>tt0114709</td>\n",
       "      <td>en</td>\n",
       "      <td>Led by Woody, Andy's toys live happily in his ...</td>\n",
       "      <td>21.946943</td>\n",
       "      <td>1995-10-30</td>\n",
       "      <td>373554033.0</td>\n",
       "      <td>81.0</td>\n",
       "      <td>...</td>\n",
       "      <td>Animation Comedy Family</td>\n",
       "      <td>16 35 10751</td>\n",
       "      <td>English</td>\n",
       "      <td>en</td>\n",
       "      <td>3</td>\n",
       "      <td>Pixar Animation Studios</td>\n",
       "      <td>US</td>\n",
       "      <td>United States of America</td>\n",
       "      <td>1995.0</td>\n",
       "      <td>12.451801</td>\n",
       "    </tr>\n",
       "    <tr>\n",
       "      <th>1</th>\n",
       "      <td>False</td>\n",
       "      <td>65000000.0</td>\n",
       "      <td>8844</td>\n",
       "      <td>tt0113497</td>\n",
       "      <td>en</td>\n",
       "      <td>When siblings Judy and Peter discover an encha...</td>\n",
       "      <td>17.015539</td>\n",
       "      <td>1995-12-15</td>\n",
       "      <td>262797249.0</td>\n",
       "      <td>104.0</td>\n",
       "      <td>...</td>\n",
       "      <td>Adventure Fantasy Family</td>\n",
       "      <td>12 14 10751</td>\n",
       "      <td>English Français</td>\n",
       "      <td>en fr</td>\n",
       "      <td>559 2550 10201</td>\n",
       "      <td>TriStar Pictures Teitler Film Interscope Commu...</td>\n",
       "      <td>US</td>\n",
       "      <td>United States of America</td>\n",
       "      <td>1995.0</td>\n",
       "      <td>4.043035</td>\n",
       "    </tr>\n",
       "    <tr>\n",
       "      <th>2</th>\n",
       "      <td>False</td>\n",
       "      <td>0.0</td>\n",
       "      <td>15602</td>\n",
       "      <td>tt0113228</td>\n",
       "      <td>en</td>\n",
       "      <td>A family wedding reignites the ancient feud be...</td>\n",
       "      <td>11.7129</td>\n",
       "      <td>1995-12-22</td>\n",
       "      <td>0.0</td>\n",
       "      <td>101.0</td>\n",
       "      <td>...</td>\n",
       "      <td>Romance Comedy</td>\n",
       "      <td>10749 35</td>\n",
       "      <td>English</td>\n",
       "      <td>en</td>\n",
       "      <td>6194 19464</td>\n",
       "      <td>Warner Bros. Lancaster Gate</td>\n",
       "      <td>US</td>\n",
       "      <td>United States of America</td>\n",
       "      <td>1995.0</td>\n",
       "      <td>NaN</td>\n",
       "    </tr>\n",
       "  </tbody>\n",
       "</table>\n",
       "<p>3 rows × 30 columns</p>\n",
       "</div>"
      ],
      "text/plain": [
       "   adult      budget     id    imdb_id original_language  \\\n",
       "0  False  30000000.0    862  tt0114709                en   \n",
       "1  False  65000000.0   8844  tt0113497                en   \n",
       "2  False         0.0  15602  tt0113228                en   \n",
       "\n",
       "                                            overview popularity release_date  \\\n",
       "0  Led by Woody, Andy's toys live happily in his ...  21.946943   1995-10-30   \n",
       "1  When siblings Judy and Peter discover an encha...  17.015539   1995-12-15   \n",
       "2  A family wedding reignites the ancient feud be...    11.7129   1995-12-22   \n",
       "\n",
       "       revenue  runtime  ...               name_genres    id_genres  \\\n",
       "0  373554033.0     81.0  ...   Animation Comedy Family  16 35 10751   \n",
       "1  262797249.0    104.0  ...  Adventure Fantasy Family  12 14 10751   \n",
       "2          0.0    101.0  ...            Romance Comedy     10749 35   \n",
       "\n",
       "        name_Spoken  iso_639_1_Spoken         id_prod  \\\n",
       "0           English                en               3   \n",
       "1  English Français             en fr  559 2550 10201   \n",
       "2           English                en      6194 19464   \n",
       "\n",
       "                                           name_prod iso_3166_1_Count  \\\n",
       "0                            Pixar Animation Studios               US   \n",
       "1  TriStar Pictures Teitler Film Interscope Commu...               US   \n",
       "2                        Warner Bros. Lancaster Gate               US   \n",
       "\n",
       "                 name_Count  release_year     Return  \n",
       "0  United States of America        1995.0  12.451801  \n",
       "1  United States of America        1995.0   4.043035  \n",
       "2  United States of America        1995.0        NaN  \n",
       "\n",
       "[3 rows x 30 columns]"
      ]
     },
     "execution_count": 8,
     "metadata": {},
     "output_type": "execute_result"
    }
   ],
   "source": [
    "#Eliminamos las columnas que no necesitamos\n",
    "Columnas_a_Eliminar=['video','belongs_to_collection',\"genres\",\"spoken_languages\",\"original_title\",\"poster_path\", \"homepage\",'genres',\"production_companies\",\"production_countries\"\t]\n",
    "Movies_Compl=Movies_Compl.drop(Columnas_a_Eliminar,axis=1)\n",
    "Movies_Compl.head(3)"
   ]
  },
  {
   "cell_type": "code",
   "execution_count": 9,
   "metadata": {},
   "outputs": [],
   "source": [
    "# Estas son correciones que se hicieron a medida que las funciones se fueron creando \n",
    "# las deje como refencia de las transformaciones que se hiban haciendo a medida que se van creando las funciones.-\n",
    "Movies_Compl[\"Return\"]=Movies_Compl[\"Return\"].replace(np.inf, 0)\n",
    "Movies_Compl[\"budget\"].astype(int)\n",
    "Movies_Compl[\"popularity\"]= pd.to_numeric(Movies_Compl[\"popularity\"], errors='coerce').fillna(0)\n",
    "Movies_Compl[\"runtime\"]=Movies_Compl[\"runtime\"].fillna(0)\n",
    "Movies_Compl[\"release_year\"]=Movies_Compl[\"release_year\"].fillna(0)\n",
    "Movies_Compl[\"runtime\"]=Movies_Compl[\"runtime\"].astype(int)\n",
    "Movies_Compl[\"release_year\"]=Movies_Compl[\"release_year\"].astype(int)\n",
    "\n"
   ]
  },
  {
   "cell_type": "code",
   "execution_count": 10,
   "metadata": {},
   "outputs": [
    {
     "data": {
      "text/html": [
       "<div>\n",
       "<style scoped>\n",
       "    .dataframe tbody tr th:only-of-type {\n",
       "        vertical-align: middle;\n",
       "    }\n",
       "\n",
       "    .dataframe tbody tr th {\n",
       "        vertical-align: top;\n",
       "    }\n",
       "\n",
       "    .dataframe thead th {\n",
       "        text-align: right;\n",
       "    }\n",
       "</style>\n",
       "<table border=\"1\" class=\"dataframe\">\n",
       "  <thead>\n",
       "    <tr style=\"text-align: right;\">\n",
       "      <th></th>\n",
       "      <th>adult</th>\n",
       "      <th>budget</th>\n",
       "      <th>id</th>\n",
       "      <th>imdb_id</th>\n",
       "      <th>original_language</th>\n",
       "      <th>overview</th>\n",
       "      <th>popularity</th>\n",
       "      <th>release_date</th>\n",
       "      <th>revenue</th>\n",
       "      <th>runtime</th>\n",
       "      <th>...</th>\n",
       "      <th>name_genres</th>\n",
       "      <th>id_genres</th>\n",
       "      <th>name_Spoken</th>\n",
       "      <th>iso_639_1_Spoken</th>\n",
       "      <th>id_prod</th>\n",
       "      <th>name_prod</th>\n",
       "      <th>iso_3166_1_Count</th>\n",
       "      <th>name_Count</th>\n",
       "      <th>release_year</th>\n",
       "      <th>Return</th>\n",
       "    </tr>\n",
       "  </thead>\n",
       "  <tbody>\n",
       "    <tr>\n",
       "      <th>0</th>\n",
       "      <td>False</td>\n",
       "      <td>30000000.0</td>\n",
       "      <td>862</td>\n",
       "      <td>tt0114709</td>\n",
       "      <td>en</td>\n",
       "      <td>Led by Woody, Andy's toys live happily in his ...</td>\n",
       "      <td>21.946943</td>\n",
       "      <td>1995-10-30</td>\n",
       "      <td>373554033.0</td>\n",
       "      <td>81</td>\n",
       "      <td>...</td>\n",
       "      <td>Animation Comedy Family</td>\n",
       "      <td>16 35 10751</td>\n",
       "      <td>English</td>\n",
       "      <td>en</td>\n",
       "      <td>3</td>\n",
       "      <td>Pixar Animation Studios</td>\n",
       "      <td>US</td>\n",
       "      <td>United States of America</td>\n",
       "      <td>1995</td>\n",
       "      <td>12.451801</td>\n",
       "    </tr>\n",
       "  </tbody>\n",
       "</table>\n",
       "<p>1 rows × 30 columns</p>\n",
       "</div>"
      ],
      "text/plain": [
       "   adult      budget   id    imdb_id original_language  \\\n",
       "0  False  30000000.0  862  tt0114709                en   \n",
       "\n",
       "                                            overview  popularity release_date  \\\n",
       "0  Led by Woody, Andy's toys live happily in his ...   21.946943   1995-10-30   \n",
       "\n",
       "       revenue  runtime  ...              name_genres    id_genres  \\\n",
       "0  373554033.0       81  ...  Animation Comedy Family  16 35 10751   \n",
       "\n",
       "  name_Spoken  iso_639_1_Spoken  id_prod                name_prod  \\\n",
       "0     English                en        3  Pixar Animation Studios   \n",
       "\n",
       "  iso_3166_1_Count                name_Count  release_year     Return  \n",
       "0               US  United States of America          1995  12.451801  \n",
       "\n",
       "[1 rows x 30 columns]"
      ]
     },
     "execution_count": 10,
     "metadata": {},
     "output_type": "execute_result"
    }
   ],
   "source": [
    "Movies_Compl.head(1)"
   ]
  },
  {
   "cell_type": "code",
   "execution_count": 11,
   "metadata": {},
   "outputs": [],
   "source": [
    "#El data final\n",
    "\n",
    "Movies_Compl=Movies_Compl.sample(frac=0.5)\n",
    "Movies_Compl.to_csv(\"../06 - Dataset Para Funciones y EDA/Data_Final.csv\",index=False)"
   ]
  }
 ],
 "metadata": {
  "kernelspec": {
   "display_name": "practico",
   "language": "python",
   "name": "python3"
  },
  "language_info": {
   "codemirror_mode": {
    "name": "ipython",
    "version": 3
   },
   "file_extension": ".py",
   "mimetype": "text/x-python",
   "name": "python",
   "nbconvert_exporter": "python",
   "pygments_lexer": "ipython3",
   "version": "3.11.4"
  },
  "orig_nbformat": 4
 },
 "nbformat": 4,
 "nbformat_minor": 2
}
