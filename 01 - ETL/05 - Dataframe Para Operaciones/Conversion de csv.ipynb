{
 "cells": [
  {
   "cell_type": "code",
   "execution_count": 1,
   "metadata": {},
   "outputs": [],
   "source": [
    "import pandas as pd"
   ]
  },
  {
   "cell_type": "code",
   "execution_count": 2,
   "metadata": {},
   "outputs": [],
   "source": [
    "df=pd.read_csv(\"../06 - Dataset Para Funciones y EDA/Data_Final.csv\")"
   ]
  },
  {
   "cell_type": "code",
   "execution_count": 3,
   "metadata": {},
   "outputs": [
    {
     "data": {
      "text/html": [
       "<div>\n",
       "<style scoped>\n",
       "    .dataframe tbody tr th:only-of-type {\n",
       "        vertical-align: middle;\n",
       "    }\n",
       "\n",
       "    .dataframe tbody tr th {\n",
       "        vertical-align: top;\n",
       "    }\n",
       "\n",
       "    .dataframe thead th {\n",
       "        text-align: right;\n",
       "    }\n",
       "</style>\n",
       "<table border=\"1\" class=\"dataframe\">\n",
       "  <thead>\n",
       "    <tr style=\"text-align: right;\">\n",
       "      <th></th>\n",
       "      <th>adult</th>\n",
       "      <th>budget</th>\n",
       "      <th>id</th>\n",
       "      <th>imdb_id</th>\n",
       "      <th>original_language</th>\n",
       "      <th>overview</th>\n",
       "      <th>popularity</th>\n",
       "      <th>release_date</th>\n",
       "      <th>revenue</th>\n",
       "      <th>runtime</th>\n",
       "      <th>status</th>\n",
       "      <th>tagline</th>\n",
       "      <th>title</th>\n",
       "      <th>vote_average</th>\n",
       "      <th>vote_count</th>\n",
       "      <th>id.1</th>\n",
       "      <th>Actor</th>\n",
       "      <th>Director</th>\n",
       "      <th>id_belong</th>\n",
       "      <th>name_belong</th>\n",
       "      <th>name_genres</th>\n",
       "      <th>id_genres</th>\n",
       "      <th>name_Spoken</th>\n",
       "      <th>iso_639_1_Spoken</th>\n",
       "      <th>id_prod</th>\n",
       "      <th>name_prod</th>\n",
       "      <th>iso_3166_1_Count</th>\n",
       "      <th>name_Count</th>\n",
       "      <th>release_year</th>\n",
       "      <th>Return</th>\n",
       "    </tr>\n",
       "  </thead>\n",
       "  <tbody>\n",
       "    <tr>\n",
       "      <th>0</th>\n",
       "      <td>False</td>\n",
       "      <td>8000000.0</td>\n",
       "      <td>11050</td>\n",
       "      <td>tt0086425</td>\n",
       "      <td>en</td>\n",
       "      <td>Aurora and Emma are mother and daughter who ma...</td>\n",
       "      <td>8.785209</td>\n",
       "      <td>1983-11-20</td>\n",
       "      <td>0.0</td>\n",
       "      <td>132</td>\n",
       "      <td>Released</td>\n",
       "      <td>NaN</td>\n",
       "      <td>Terms of Endearment</td>\n",
       "      <td>6.9</td>\n",
       "      <td>178.0</td>\n",
       "      <td>11050</td>\n",
       "      <td>'Shirley MacLaine'</td>\n",
       "      <td>'James L. Brooks'</td>\n",
       "      <td>0.0</td>\n",
       "      <td>0</td>\n",
       "      <td>Drama Comedy</td>\n",
       "      <td>18 35</td>\n",
       "      <td>English</td>\n",
       "      <td>en</td>\n",
       "      <td>4</td>\n",
       "      <td>Paramount Pictures</td>\n",
       "      <td>US</td>\n",
       "      <td>United States of America</td>\n",
       "      <td>1983</td>\n",
       "      <td>0.0</td>\n",
       "    </tr>\n",
       "  </tbody>\n",
       "</table>\n",
       "</div>"
      ],
      "text/plain": [
       "   adult     budget     id    imdb_id original_language  \\\n",
       "0  False  8000000.0  11050  tt0086425                en   \n",
       "\n",
       "                                            overview  popularity release_date  \\\n",
       "0  Aurora and Emma are mother and daughter who ma...    8.785209   1983-11-20   \n",
       "\n",
       "   revenue  runtime    status tagline                title  vote_average  \\\n",
       "0      0.0      132  Released     NaN  Terms of Endearment           6.9   \n",
       "\n",
       "   vote_count   id.1                Actor             Director  id_belong  \\\n",
       "0       178.0  11050   'Shirley MacLaine'    'James L. Brooks'        0.0   \n",
       "\n",
       "  name_belong   name_genres id_genres name_Spoken iso_639_1_Spoken id_prod  \\\n",
       "0          0   Drama Comedy     18 35     English               en       4   \n",
       "\n",
       "            name_prod iso_3166_1_Count                name_Count  \\\n",
       "0  Paramount Pictures               US  United States of America   \n",
       "\n",
       "   release_year  Return  \n",
       "0          1983     0.0  "
      ]
     },
     "execution_count": 3,
     "metadata": {},
     "output_type": "execute_result"
    }
   ],
   "source": [
    "pd.set_option('display.max_columns', None)  # Mostrar todas las columnas\n",
    "df.head(1)"
   ]
  },
  {
   "cell_type": "code",
   "execution_count": 4,
   "metadata": {},
   "outputs": [],
   "source": [
    "Funcio=df[['title','original_language',\"release_year\",\"name_belong\",\"runtime\",'name_prod',\"Return\",'name_Count',\"release_date\",\"revenue\",\"Return\",'Director']]"
   ]
  },
  {
   "cell_type": "code",
   "execution_count": 5,
   "metadata": {},
   "outputs": [],
   "source": [
    "Funcio.to_csv(\"../06 - Dataset Para Funciones y EDA/Funcio.csv\",index=False)"
   ]
  },
  {
   "cell_type": "markdown",
   "metadata": {},
   "source": [
    "## Data para Machine Learnig"
   ]
  },
  {
   "cell_type": "code",
   "execution_count": 6,
   "metadata": {
    "notebookRunGroups": {
     "groupValue": "2"
    }
   },
   "outputs": [],
   "source": [
    "Machine=df[['title',\"name_genres\",'popularity']]"
   ]
  },
  {
   "cell_type": "code",
   "execution_count": 7,
   "metadata": {},
   "outputs": [],
   "source": [
    "Machine.to_csv(\"../06 - Dataset Para Funciones y EDA/Machine.csv\",index=False)"
   ]
  }
 ],
 "metadata": {
  "kernelspec": {
   "display_name": "henry",
   "language": "python",
   "name": "python3"
  },
  "language_info": {
   "codemirror_mode": {
    "name": "ipython",
    "version": 3
   },
   "file_extension": ".py",
   "mimetype": "text/x-python",
   "name": "python",
   "nbconvert_exporter": "python",
   "pygments_lexer": "ipython3",
   "version": "3.11.4"
  },
  "orig_nbformat": 4
 },
 "nbformat": 4,
 "nbformat_minor": 2
}
