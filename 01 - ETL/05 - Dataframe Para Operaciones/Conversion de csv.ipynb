{
 "cells": [
  {
   "cell_type": "code",
   "execution_count": 1,
   "metadata": {},
   "outputs": [],
   "source": [
    "import pandas as pd"
   ]
  },
  {
   "cell_type": "code",
   "execution_count": 2,
   "metadata": {},
   "outputs": [],
   "source": [
    "df=pd.read_csv(\"../06 - Dataset Para Funciones y EDA/Data_Final.csv\")"
   ]
  },
  {
   "cell_type": "code",
   "execution_count": 3,
   "metadata": {},
   "outputs": [
    {
     "data": {
      "text/html": [
       "<div>\n",
       "<style scoped>\n",
       "    .dataframe tbody tr th:only-of-type {\n",
       "        vertical-align: middle;\n",
       "    }\n",
       "\n",
       "    .dataframe tbody tr th {\n",
       "        vertical-align: top;\n",
       "    }\n",
       "\n",
       "    .dataframe thead th {\n",
       "        text-align: right;\n",
       "    }\n",
       "</style>\n",
       "<table border=\"1\" class=\"dataframe\">\n",
       "  <thead>\n",
       "    <tr style=\"text-align: right;\">\n",
       "      <th></th>\n",
       "      <th>adult</th>\n",
       "      <th>budget</th>\n",
       "      <th>id</th>\n",
       "      <th>imdb_id</th>\n",
       "      <th>original_language</th>\n",
       "      <th>overview</th>\n",
       "      <th>popularity</th>\n",
       "      <th>release_date</th>\n",
       "      <th>revenue</th>\n",
       "      <th>runtime</th>\n",
       "      <th>status</th>\n",
       "      <th>tagline</th>\n",
       "      <th>title</th>\n",
       "      <th>vote_average</th>\n",
       "      <th>vote_count</th>\n",
       "      <th>id.1</th>\n",
       "      <th>Actor</th>\n",
       "      <th>Director</th>\n",
       "      <th>id_belong</th>\n",
       "      <th>name_belong</th>\n",
       "      <th>name_genres</th>\n",
       "      <th>id_genres</th>\n",
       "      <th>name_Spoken</th>\n",
       "      <th>iso_639_1_Spoken</th>\n",
       "      <th>id_prod</th>\n",
       "      <th>name_prod</th>\n",
       "      <th>iso_3166_1_Count</th>\n",
       "      <th>name_Count</th>\n",
       "      <th>release_year</th>\n",
       "      <th>Return</th>\n",
       "    </tr>\n",
       "  </thead>\n",
       "  <tbody>\n",
       "    <tr>\n",
       "      <th>0</th>\n",
       "      <td>False</td>\n",
       "      <td>61000000.0</td>\n",
       "      <td>99770</td>\n",
       "      <td>tt1597522</td>\n",
       "      <td>fr</td>\n",
       "      <td>Asterix crosses the channel to help second-cou...</td>\n",
       "      <td>9.722726</td>\n",
       "      <td>2012-10-17</td>\n",
       "      <td>0.0</td>\n",
       "      <td>110</td>\n",
       "      <td>Released</td>\n",
       "      <td>NaN</td>\n",
       "      <td>Astérix and Obélix: God Save Britannia</td>\n",
       "      <td>4.9</td>\n",
       "      <td>326.0</td>\n",
       "      <td>99770</td>\n",
       "      <td>'Gérard Depardieu'</td>\n",
       "      <td>'Laurent Tirard'</td>\n",
       "      <td>2396.0</td>\n",
       "      <td>'Asterix and Obelix Collection'</td>\n",
       "      <td>Family Adventure Comedy</td>\n",
       "      <td>10751 12 35</td>\n",
       "      <td>Français</td>\n",
       "      <td>fr</td>\n",
       "      <td>83 591 779 856 1266 2927 7454 10031 11199 1162...</td>\n",
       "      <td>France 2 Cinéma France 3 Cinéma Lucky Red Wild...</td>\n",
       "      <td>FR HU IT ES</td>\n",
       "      <td>France Hungary Italy Spain</td>\n",
       "      <td>2012</td>\n",
       "      <td>0.0</td>\n",
       "    </tr>\n",
       "  </tbody>\n",
       "</table>\n",
       "</div>"
      ],
      "text/plain": [
       "   adult      budget     id    imdb_id original_language  \\\n",
       "0  False  61000000.0  99770  tt1597522                fr   \n",
       "\n",
       "                                            overview  popularity release_date  \\\n",
       "0  Asterix crosses the channel to help second-cou...    9.722726   2012-10-17   \n",
       "\n",
       "   revenue  runtime    status tagline                                   title  \\\n",
       "0      0.0      110  Released     NaN  Astérix and Obélix: God Save Britannia   \n",
       "\n",
       "   vote_average  vote_count   id.1                Actor            Director  \\\n",
       "0           4.9       326.0  99770   'Gérard Depardieu'    'Laurent Tirard'   \n",
       "\n",
       "   id_belong                        name_belong              name_genres  \\\n",
       "0     2396.0    'Asterix and Obelix Collection'  Family Adventure Comedy   \n",
       "\n",
       "     id_genres name_Spoken iso_639_1_Spoken  \\\n",
       "0  10751 12 35    Français               fr   \n",
       "\n",
       "                                             id_prod  \\\n",
       "0  83 591 779 856 1266 2927 7454 10031 11199 1162...   \n",
       "\n",
       "                                           name_prod iso_3166_1_Count  \\\n",
       "0  France 2 Cinéma France 3 Cinéma Lucky Red Wild...      FR HU IT ES   \n",
       "\n",
       "                   name_Count  release_year  Return  \n",
       "0  France Hungary Italy Spain          2012     0.0  "
      ]
     },
     "execution_count": 3,
     "metadata": {},
     "output_type": "execute_result"
    }
   ],
   "source": [
    "pd.set_option('display.max_columns', None)  # Mostrar todas las columnas\n",
    "df.head(1)"
   ]
  },
  {
   "cell_type": "code",
   "execution_count": 8,
   "metadata": {},
   "outputs": [],
   "source": [
    "Funcio=df[['title','original_language',\"release_year\",\"name_belong\",\"runtime\",'name_prod',\"Return\",'name_Count',\"release_date\",\"revenue\",\"Return\",'Director']]"
   ]
  },
  {
   "cell_type": "code",
   "execution_count": 9,
   "metadata": {},
   "outputs": [],
   "source": [
    "Funcio.to_csv(\"../06 - Dataset Para Funciones y EDA/Funcio.csv\",index=False)"
   ]
  },
  {
   "cell_type": "markdown",
   "metadata": {},
   "source": [
    "## Data para Machine Learnig"
   ]
  },
  {
   "cell_type": "code",
   "execution_count": 6,
   "metadata": {
    "notebookRunGroups": {
     "groupValue": "2"
    }
   },
   "outputs": [],
   "source": [
    "Machine=df[['title',\"name_genres\",'popularity']]"
   ]
  },
  {
   "cell_type": "code",
   "execution_count": 7,
   "metadata": {},
   "outputs": [],
   "source": [
    "Machine.to_csv(\"../06 - Dataset Para Funciones y EDA/Machine.csv\",index=False)"
   ]
  }
 ],
 "metadata": {
  "kernelspec": {
   "display_name": "henry",
   "language": "python",
   "name": "python3"
  },
  "language_info": {
   "codemirror_mode": {
    "name": "ipython",
    "version": 3
   },
   "file_extension": ".py",
   "mimetype": "text/x-python",
   "name": "python",
   "nbconvert_exporter": "python",
   "pygments_lexer": "ipython3",
   "version": "3.11.4"
  },
  "orig_nbformat": 4
 },
 "nbformat": 4,
 "nbformat_minor": 2
}
