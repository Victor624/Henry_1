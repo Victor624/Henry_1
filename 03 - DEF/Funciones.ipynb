{
 "cells": [
  {
   "cell_type": "code",
   "execution_count": 1,
   "metadata": {},
   "outputs": [],
   "source": [
    "import pandas as pd\n",
    "import ast\n",
    "import numpy as np\n",
    "df=pd.read_csv(\"Funcio.csv\")"
   ]
  },
  {
   "cell_type": "code",
   "execution_count": 2,
   "metadata": {},
   "outputs": [],
   "source": [
    "pd.set_option('display.max_columns', None)  # Mostrar todas las columnas"
   ]
  },
  {
   "cell_type": "code",
   "execution_count": 3,
   "metadata": {},
   "outputs": [
    {
     "data": {
      "text/plain": [
       "array(['Toy Story', 'Jumanji', 'Grumpier Old Men', ...,\n",
       "       'Century of Birthing', 'Satan Triumphant', 'Queerama'],\n",
       "      dtype=object)"
      ]
     },
     "execution_count": 3,
     "metadata": {},
     "output_type": "execute_result"
    }
   ],
   "source": [
    "idioma=df['title']\n",
    "idioma.unique()"
   ]
  },
  {
   "cell_type": "code",
   "execution_count": 4,
   "metadata": {},
   "outputs": [],
   "source": [
    "def Idioma(x):\n",
    "    Lista=[]\n",
    "    idioma=df['original_language']\n",
    "    \n",
    "    for i in idioma:\n",
    "        if i == x:\n",
    "            Lista.append(x)\n",
    "        else:\n",
    "            pass\n",
    "    \n",
    "    cant=len(Lista)\n",
    "    result=print(\"La cantidad de peliculas hechas con el idioma\",x,\"son\",cant)\n",
    "    return result"
   ]
  },
  {
   "cell_type": "code",
   "execution_count": 5,
   "metadata": {},
   "outputs": [
    {
     "name": "stdout",
     "output_type": "stream",
     "text": [
      "La cantidad de peliculas hechas con el idioma en son 32202\n"
     ]
    }
   ],
   "source": [
    "Idioma(\"en\")\n",
    "\n"
   ]
  },
  {
   "cell_type": "code",
   "execution_count": 6,
   "metadata": {},
   "outputs": [],
   "source": [
    "def peliculas_duracion(x):\n",
    "    x=x.lower().title()\n",
    "    Pelicula=df['title']\n",
    "    Cantidad=-1\n",
    "    for i in Pelicula:\n",
    "        Cantidad+=1\n",
    "        if i == x:\n",
    "            break\n",
    "        else:\n",
    "            Cantidad+=1\n",
    "    Peli=df[[\"release_year\",\"runtime\"]]\n",
    "    Peli=pd.DataFrame(Peli)\n",
    "    Peli=Peli.loc[Cantidad]\n",
    "    Peli=print(\"La pelicula <\",x, \"> Fue estrenada en:\",Peli[0],\"y tiene una duracion de\",Peli[1],\"minutos\")\n",
    "    \n",
    "            \n",
    "    return Peli\n",
    "    "
   ]
  },
  {
   "cell_type": "code",
   "execution_count": 7,
   "metadata": {},
   "outputs": [
    {
     "name": "stdout",
     "output_type": "stream",
     "text": [
      "La pelicula < Toy Story > Fue estrenada en: 1995 y tiene una duracion de 81 minutos\n"
     ]
    }
   ],
   "source": [
    "peliculas_duracion(\"Toy Story\")\n"
   ]
  },
  {
   "cell_type": "markdown",
   "metadata": {},
   "source": [
    "def franquicia( Franquicia: str ): Se ingresa la franquicia, retornando la cantidad de peliculas, ganancia total y promedio\n",
    "                    Ejemplo de retorno: La franquicia X posee X peliculas, una ganancia total de x y una ganancia promedio de xx"
   ]
  },
  {
   "cell_type": "code",
   "execution_count": 8,
   "metadata": {},
   "outputs": [],
   "source": [
    "def Franquicias(x):\n",
    "    Franqui=df['name_prod']\n",
    "    Cantidad=0\n",
    "    Cant_Peli=0\n",
    "    Ganancias=[]\n",
    "    total=sum(Ganancias)\n",
    "    for i in Franqui:\n",
    "        i=str(i)\n",
    "        Cantidad+=1\n",
    "        if x in i:\n",
    "            Peli=df[\"Return\"]\n",
    "            Peli=pd.DataFrame(Peli)\n",
    "            Peli=Peli.loc[Cantidad]\n",
    "            Ganancias.append(Peli)\n",
    "            Cant_Peli+=1\n",
    "        \n",
    "    if len(Ganancias) > 0:\n",
    "        Ganancias\n",
    "        Ganancias=pd.DataFrame(Ganancias)\n",
    "        Ganancias=Ganancias.dropna()\n",
    "        Ganancias=Ganancias[\"Return\"].replace(np.inf, 0)\n",
    "        Ganancias=pd.DataFrame(Ganancias)\n",
    "        suma = Ganancias[\"Return\"].sum().round(2)\n",
    "        result=\"La productora hizo \",Cant_Peli,\"con una ganancia total de\",suma.round(2),\"y un promedio de\",(suma/Cant_Peli).round(2)\n",
    "    else:\n",
    "        \n",
    "        result=\"No hay una productora con ese Nombre\"\n",
    "    return result"
   ]
  },
  {
   "cell_type": "code",
   "execution_count": 9,
   "metadata": {},
   "outputs": [
    {
     "data": {
      "text/plain": [
       "('La productora hizo ',\n",
       " 221,\n",
       " 'con una ganancia total de',\n",
       " 544.47,\n",
       " 'y un promedio de',\n",
       " 2.46)"
      ]
     },
     "execution_count": 9,
     "metadata": {},
     "output_type": "execute_result"
    }
   ],
   "source": [
    "Franquicias(\"TriStar\")"
   ]
  },
  {
   "cell_type": "code",
   "execution_count": 10,
   "metadata": {},
   "outputs": [],
   "source": [
    "def peliculas_pais(x):\n",
    "    pais=df['name_Count']\n",
    "    Lugar=0\n",
    "    Cant_Peli=0\n",
    "   \n",
    "    for i in pais:\n",
    "        i=str(i)\n",
    "        Lugar+=1\n",
    "        if x == i:\n",
    "            \n",
    "            Cant_Peli+=1\n",
    "        \n",
    "    if Cant_Peli > 0:       \n",
    "\n",
    "        result=\"Se produjeron\",Cant_Peli,\"en el pais\",x\n",
    "    else:\n",
    "        \n",
    "        result=\"No se peliculas hechas en el pais\",x\n",
    "            \n",
    "          \n",
    "    return result"
   ]
  },
  {
   "cell_type": "code",
   "execution_count": 11,
   "metadata": {},
   "outputs": [
    {
     "data": {
      "text/plain": [
       "('Se produjeron', 17846, 'en el pais', 'United States of America')"
      ]
     },
     "execution_count": 11,
     "metadata": {},
     "output_type": "execute_result"
    }
   ],
   "source": [
    "peliculas_pais(\"United States of America\")"
   ]
  },
  {
   "cell_type": "markdown",
   "metadata": {},
   "source": [
    "def productoras_exitosas( Productora: str ): Se ingresa la productora, entregandote el revunue total y la cantidad de peliculas que realizo.\n",
    "                   Ejemplo de retorno: La productora X ha tenido un revenue de x"
   ]
  },
  {
   "cell_type": "code",
   "execution_count": 12,
   "metadata": {},
   "outputs": [],
   "source": [
    "def productoras_exitosas(x):\n",
    "    Franqui=df['name_prod']\n",
    "    Cantidad=0\n",
    "    Cant_Peli=0\n",
    "    revenue=[]\n",
    "    for i in Franqui:\n",
    "        i=str(i)\n",
    "        Cantidad+=1\n",
    "        if x in i:\n",
    "            Peli=df[\"revenue\"]\n",
    "            Peli=pd.DataFrame(Peli)\n",
    "            Peli=Peli.loc[Cantidad]\n",
    "            revenue.append(Peli)\n",
    "            Cant_Peli+=1\n",
    "        \n",
    "    if len(revenue) > 0:\n",
    "        revenue=pd.DataFrame(revenue)\n",
    "        revenue=revenue.dropna()\n",
    "        revenue=revenue[\"revenue\"].replace(np.inf, 0)\n",
    "        revenue=pd.DataFrame(revenue)\n",
    "        suma = revenue[\"revenue\"].sum().round(2)\n",
    "        result=\"La productora hizo \",Cant_Peli,\"con un reveue total de\",suma.round(2)\n",
    "    else:\n",
    "        \n",
    "        result=\"No hay una productora con ese Nombre\"\n",
    "            \n",
    "          \n",
    "    return result"
   ]
  },
  {
   "cell_type": "code",
   "execution_count": 13,
   "metadata": {},
   "outputs": [
    {
     "data": {
      "text/plain": [
       "('La productora hizo ', 1103, 'con un reveue total de', 27488095637.0)"
      ]
     },
     "execution_count": 13,
     "metadata": {},
     "output_type": "execute_result"
    }
   ],
   "source": [
    "productoras_exitosas(\"Universal\")"
   ]
  },
  {
   "cell_type": "code",
   "execution_count": 21,
   "metadata": {},
   "outputs": [],
   "source": [
    "def Directores(x):\n",
    "    Franqui=df['Director']\n",
    "    titl=[]\n",
    "    posi=-1\n",
    "    for i in Franqui:\n",
    "        i=str(i)\n",
    "        posi+=1\n",
    "        if x in i:           \n",
    "            title=df[[\"title\",\"release_date\",\"revenue\",\"Return\"]]\n",
    "            title=pd.DataFrame(title)\n",
    "            title=title.loc[posi]\n",
    "            titl.append(title)\n",
    "        else:\n",
    "            pass\n",
    "    Lista=pd.DataFrame(titl)\n",
    "    Lista=Lista.sort_values(\"Return\",ascending=False)\n",
    "    Lista=Lista.reset_index()\n",
    "    Lista=Lista[[\"title\",\"release_date\",\"revenue\",\"Return\"]]\n",
    "    \n",
    "           \n",
    "          \n",
    "    return Lista"
   ]
  },
  {
   "cell_type": "code",
   "execution_count": 22,
   "metadata": {},
   "outputs": [
    {
     "data": {
      "text/html": [
       "<div>\n",
       "<style scoped>\n",
       "    .dataframe tbody tr th:only-of-type {\n",
       "        vertical-align: middle;\n",
       "    }\n",
       "\n",
       "    .dataframe tbody tr th {\n",
       "        vertical-align: top;\n",
       "    }\n",
       "\n",
       "    .dataframe thead th {\n",
       "        text-align: right;\n",
       "    }\n",
       "</style>\n",
       "<table border=\"1\" class=\"dataframe\">\n",
       "  <thead>\n",
       "    <tr style=\"text-align: right;\">\n",
       "      <th></th>\n",
       "      <th>title</th>\n",
       "      <th>release_date</th>\n",
       "      <th>revenue</th>\n",
       "      <th>Return</th>\n",
       "    </tr>\n",
       "  </thead>\n",
       "  <tbody>\n",
       "    <tr>\n",
       "      <th>0</th>\n",
       "      <td>American Graffiti</td>\n",
       "      <td>1973-08-01</td>\n",
       "      <td>140000000.0</td>\n",
       "      <td>180.180180</td>\n",
       "    </tr>\n",
       "    <tr>\n",
       "      <th>1</th>\n",
       "      <td>Star Wars</td>\n",
       "      <td>1977-05-25</td>\n",
       "      <td>775398007.0</td>\n",
       "      <td>70.490728</td>\n",
       "    </tr>\n",
       "    <tr>\n",
       "      <th>2</th>\n",
       "      <td>Star Wars: Episode I - The Phantom Menace</td>\n",
       "      <td>1999-05-19</td>\n",
       "      <td>924317558.0</td>\n",
       "      <td>8.037544</td>\n",
       "    </tr>\n",
       "    <tr>\n",
       "      <th>3</th>\n",
       "      <td>Star Wars: Episode III - Revenge of the Sith</td>\n",
       "      <td>2005-05-17</td>\n",
       "      <td>850000000.0</td>\n",
       "      <td>7.522124</td>\n",
       "    </tr>\n",
       "    <tr>\n",
       "      <th>4</th>\n",
       "      <td>Star Wars: Episode II - Attack of the Clones</td>\n",
       "      <td>2002-05-15</td>\n",
       "      <td>649398328.0</td>\n",
       "      <td>5.411653</td>\n",
       "    </tr>\n",
       "    <tr>\n",
       "      <th>5</th>\n",
       "      <td>THX 1138</td>\n",
       "      <td>1971-03-11</td>\n",
       "      <td>2437000.0</td>\n",
       "      <td>3.136422</td>\n",
       "    </tr>\n",
       "    <tr>\n",
       "      <th>6</th>\n",
       "      <td>Still Life</td>\n",
       "      <td>2013-11-28</td>\n",
       "      <td>0.0</td>\n",
       "      <td>NaN</td>\n",
       "    </tr>\n",
       "  </tbody>\n",
       "</table>\n",
       "</div>"
      ],
      "text/plain": [
       "                                          title release_date      revenue  \\\n",
       "0                             American Graffiti   1973-08-01  140000000.0   \n",
       "1                                     Star Wars   1977-05-25  775398007.0   \n",
       "2     Star Wars: Episode I - The Phantom Menace   1999-05-19  924317558.0   \n",
       "3  Star Wars: Episode III - Revenge of the Sith   2005-05-17  850000000.0   \n",
       "4  Star Wars: Episode II - Attack of the Clones   2002-05-15  649398328.0   \n",
       "5                                      THX 1138   1971-03-11    2437000.0   \n",
       "6                                    Still Life   2013-11-28          0.0   \n",
       "\n",
       "       Return  \n",
       "0  180.180180  \n",
       "1   70.490728  \n",
       "2    8.037544  \n",
       "3    7.522124  \n",
       "4    5.411653  \n",
       "5    3.136422  \n",
       "6         NaN  "
      ]
     },
     "execution_count": 22,
     "metadata": {},
     "output_type": "execute_result"
    }
   ],
   "source": [
    "Directores('George Lucas')"
   ]
  }
 ],
 "metadata": {
  "kernelspec": {
   "display_name": "henry",
   "language": "python",
   "name": "python3"
  },
  "language_info": {
   "codemirror_mode": {
    "name": "ipython",
    "version": 3
   },
   "file_extension": ".py",
   "mimetype": "text/x-python",
   "name": "python",
   "nbconvert_exporter": "python",
   "pygments_lexer": "ipython3",
   "version": "3.11.4"
  },
  "orig_nbformat": 4
 },
 "nbformat": 4,
 "nbformat_minor": 2
}
