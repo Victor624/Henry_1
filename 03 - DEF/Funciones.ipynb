{
 "cells": [
  {
   "cell_type": "code",
   "execution_count": 1,
   "metadata": {},
   "outputs": [],
   "source": [
    "import pandas as pd\n",
    "import ast\n",
    "import numpy as np\n",
    "df=pd.read_csv(\"Funcio.csv\")"
   ]
  },
  {
   "cell_type": "code",
   "execution_count": 2,
   "metadata": {},
   "outputs": [],
   "source": [
    "pd.set_option('display.max_columns', None)  # Mostrar todas las columnas"
   ]
  },
  {
   "cell_type": "code",
   "execution_count": 3,
   "metadata": {},
   "outputs": [
    {
     "data": {
      "text/plain": [
       "array(['Toy Story', 'Jumanji', 'Grumpier Old Men', ...,\n",
       "       'Century of Birthing', 'Satan Triumphant', 'Queerama'],\n",
       "      dtype=object)"
      ]
     },
     "execution_count": 3,
     "metadata": {},
     "output_type": "execute_result"
    }
   ],
   "source": [
    "idioma=df['title']\n",
    "idioma.unique()"
   ]
  },
  {
   "cell_type": "code",
   "execution_count": 4,
   "metadata": {},
   "outputs": [],
   "source": [
    "def Idioma(x):\n",
    "    Lista=[]\n",
    "    idioma=df['original_language']\n",
    "    \n",
    "    for i in idioma:\n",
    "        if i == x:\n",
    "            Lista.append(x)\n",
    "        else:\n",
    "            pass\n",
    "    \n",
    "    cant=len(Lista)\n",
    "    result=print(\"La cantidad de peliculas hechas con el idioma\",x,\"son\",cant)\n",
    "    return result"
   ]
  },
  {
   "cell_type": "code",
   "execution_count": 5,
   "metadata": {},
   "outputs": [
    {
     "name": "stdout",
     "output_type": "stream",
     "text": [
      "La cantidad de peliculas hechas con el idioma en son 32202\n"
     ]
    }
   ],
   "source": [
    "Idioma(\"en\")\n",
    "\n"
   ]
  },
  {
   "cell_type": "code",
   "execution_count": 6,
   "metadata": {},
   "outputs": [],
   "source": [
    "def peliculas_duracion(x):\n",
    "    x=x.lower().title()\n",
    "    Pelicula=df['title']\n",
    "    Cantidad=-1\n",
    "    for i in Pelicula:\n",
    "        Cantidad+=1\n",
    "        if i == x:\n",
    "            break\n",
    "        else:\n",
    "            Cantidad+=1\n",
    "    Peli=df[[\"release_year\",\"runtime\"]]\n",
    "    Peli=pd.DataFrame(Peli)\n",
    "    Peli=Peli.loc[Cantidad]\n",
    "    Peli=print(\"La pelicula <\",x, \"> Fue estrenada en:\",Peli[0],\"y tiene una duracion de\",Peli[1],\"minutos\")\n",
    "    \n",
    "            \n",
    "    return Peli\n",
    "    "
   ]
  },
  {
   "cell_type": "code",
   "execution_count": 7,
   "metadata": {},
   "outputs": [
    {
     "name": "stdout",
     "output_type": "stream",
     "text": [
      "La pelicula < Toy Story > Fue estrenada en: 1995 y tiene una duracion de 81 minutos\n"
     ]
    }
   ],
   "source": [
    "peliculas_duracion(\"Toy Story\")\n"
   ]
  },
  {
   "cell_type": "markdown",
   "metadata": {},
   "source": [
    "def franquicia( Franquicia: str ): Se ingresa la franquicia, retornando la cantidad de peliculas, ganancia total y promedio\n",
    "                    Ejemplo de retorno: La franquicia X posee X peliculas, una ganancia total de x y una ganancia promedio de xx"
   ]
  },
  {
   "cell_type": "code",
   "execution_count": 8,
   "metadata": {},
   "outputs": [],
   "source": [
    "def Franquicias(x):\n",
    "    Franqui=df['name_prod']\n",
    "    Cantidad=0\n",
    "    Cant_Peli=0\n",
    "    Ganancias=[]\n",
    "    total=sum(Ganancias)\n",
    "    for i in Franqui:\n",
    "        i=str(i)\n",
    "        Cantidad+=1\n",
    "        if x in i:\n",
    "            Peli=df[\"Return\"]\n",
    "            Peli=pd.DataFrame(Peli)\n",
    "            Peli=Peli.loc[Cantidad]\n",
    "            Ganancias.append(Peli)\n",
    "            Cant_Peli+=1\n",
    "        \n",
    "    if len(Ganancias) > 0:\n",
    "        Ganancias\n",
    "        Ganancias=pd.DataFrame(Ganancias)\n",
    "        Ganancias=Ganancias.dropna()\n",
    "        Ganancias=Ganancias[\"Return\"].replace(np.inf, 0)\n",
    "        Ganancias=pd.DataFrame(Ganancias)\n",
    "        suma = Ganancias[\"Return\"].sum().round(2)\n",
    "        result=\"La productora hizo \",Cant_Peli,\"con una ganancia total de\",suma.round(2),\"y un promedio de\",(suma/Cant_Peli).round(2)\n",
    "    else:\n",
    "        \n",
    "        result=\"No hay una productora con ese Nombre\"\n",
    "    return result"
   ]
  },
  {
   "cell_type": "code",
   "execution_count": 9,
   "metadata": {},
   "outputs": [
    {
     "data": {
      "text/plain": [
       "('La productora hizo ',\n",
       " 221,\n",
       " 'con una ganancia total de',\n",
       " 544.47,\n",
       " 'y un promedio de',\n",
       " 2.46)"
      ]
     },
     "execution_count": 9,
     "metadata": {},
     "output_type": "execute_result"
    }
   ],
   "source": [
    "Franquicias(\"TriStar\")"
   ]
  },
  {
   "cell_type": "code",
   "execution_count": 10,
   "metadata": {},
   "outputs": [],
   "source": [
    "def peliculas_pais(x):\n",
    "    pais=df['name_Count']\n",
    "    Lugar=0\n",
    "    Cant_Peli=0\n",
    "   \n",
    "    for i in pais:\n",
    "        i=str(i)\n",
    "        Lugar+=1\n",
    "        if x == i:\n",
    "            \n",
    "            Cant_Peli+=1\n",
    "        \n",
    "    if Cant_Peli > 0:       \n",
    "\n",
    "        result=\"Se produjeron\",Cant_Peli,\"en el pais\",x\n",
    "    else:\n",
    "        \n",
    "        result=\"No se peliculas hechas en el pais\",x\n",
    "            \n",
    "          \n",
    "    return result"
   ]
  },
  {
   "cell_type": "code",
   "execution_count": 11,
   "metadata": {},
   "outputs": [
    {
     "data": {
      "text/plain": [
       "('Se produjeron', 17846, 'en el pais', 'United States of America')"
      ]
     },
     "execution_count": 11,
     "metadata": {},
     "output_type": "execute_result"
    }
   ],
   "source": [
    "peliculas_pais(\"United States of America\")"
   ]
  },
  {
   "cell_type": "markdown",
   "metadata": {},
   "source": [
    "def productoras_exitosas( Productora: str ): Se ingresa la productora, entregandote el revunue total y la cantidad de peliculas que realizo.\n",
    "                   Ejemplo de retorno: La productora X ha tenido un revenue de x"
   ]
  },
  {
   "cell_type": "code",
   "execution_count": 12,
   "metadata": {},
   "outputs": [],
   "source": [
    "def productoras_exitosas(x):\n",
    "    Franqui=df['name_prod']\n",
    "    Cantidad=0\n",
    "    Cant_Peli=0\n",
    "    revenue=[]\n",
    "    for i in Franqui:\n",
    "        i=str(i)\n",
    "        Cantidad+=1\n",
    "        if x in i:\n",
    "            Peli=df[\"revenue\"]\n",
    "            Peli=pd.DataFrame(Peli)\n",
    "            Peli=Peli.loc[Cantidad]\n",
    "            revenue.append(Peli)\n",
    "            Cant_Peli+=1\n",
    "        \n",
    "    if len(revenue) > 0:\n",
    "        revenue=pd.DataFrame(revenue)\n",
    "        revenue=revenue.dropna()\n",
    "        revenue=revenue[\"revenue\"].replace(np.inf, 0)\n",
    "        revenue=pd.DataFrame(revenue)\n",
    "        suma = revenue[\"revenue\"].sum().round(2)\n",
    "        result=\"La productora hizo \",Cant_Peli,\"con un reveue total de\",suma.round(2)\n",
    "    else:\n",
    "        \n",
    "        result=\"No hay una productora con ese Nombre\"\n",
    "            \n",
    "          \n",
    "    return result"
   ]
  },
  {
   "cell_type": "code",
   "execution_count": 13,
   "metadata": {},
   "outputs": [
    {
     "data": {
      "text/plain": [
       "('La productora hizo ', 1103, 'con un reveue total de', 27488095637.0)"
      ]
     },
     "execution_count": 13,
     "metadata": {},
     "output_type": "execute_result"
    }
   ],
   "source": [
    "productoras_exitosas(\"Universal\")"
   ]
  },
  {
   "cell_type": "code",
   "execution_count": 58,
   "metadata": {},
   "outputs": [],
   "source": [
    "def Directores(x):\n",
    "    Franqui=df['Director']\n",
    "    titl=[]\n",
    "    posi=-1\n",
    "    for i in Franqui:\n",
    "        i=str(i)\n",
    "        posi+=1\n",
    "        if x in i:           \n",
    "            title=df[[\"title\",\"release_date\",\"revenue\",\"Return\"]]\n",
    "            title=pd.DataFrame(title)\n",
    "            title=title.loc[posi]\n",
    "            titl.append(title)\n",
    "        else:\n",
    "            pass\n",
    "    Lista=pd.DataFrame(titl)\n",
    "    Lista=Lista.sort_values(\"Return\",ascending=False)\n",
    "    Lista=Lista.reset_index()\n",
    "    Lista=Lista[[\"title\",\"release_date\",\"revenue\",\"Return\"]]\n",
    "    Lista=Lista[0:5]\n",
    "    \n",
    "           \n",
    "          \n",
    "    return Lista.to_dict()"
   ]
  },
  {
   "cell_type": "code",
   "execution_count": 59,
   "metadata": {},
   "outputs": [
    {
     "data": {
      "text/plain": [
       "{'title': {0: 'American Graffiti',\n",
       "  1: 'Star Wars',\n",
       "  2: 'Star Wars: Episode I - The Phantom Menace',\n",
       "  3: 'Star Wars: Episode III - Revenge of the Sith',\n",
       "  4: 'Star Wars: Episode II - Attack of the Clones'},\n",
       " 'release_date': {0: '1973-08-01',\n",
       "  1: '1977-05-25',\n",
       "  2: '1999-05-19',\n",
       "  3: '2005-05-17',\n",
       "  4: '2002-05-15'},\n",
       " 'revenue': {0: 140000000.0,\n",
       "  1: 775398007.0,\n",
       "  2: 924317558.0,\n",
       "  3: 850000000.0,\n",
       "  4: 649398328.0},\n",
       " 'Return': {0: 180.18018018018017,\n",
       "  1: 70.49072790909091,\n",
       "  2: 8.037543982608696,\n",
       "  3: 7.522123893805309,\n",
       "  4: 5.411652733333334}}"
      ]
     },
     "execution_count": 59,
     "metadata": {},
     "output_type": "execute_result"
    }
   ],
   "source": [
    "Directores('George Lucas')"
   ]
  }
 ],
 "metadata": {
  "kernelspec": {
   "display_name": "henry",
   "language": "python",
   "name": "python3"
  },
  "language_info": {
   "codemirror_mode": {
    "name": "ipython",
    "version": 3
   },
   "file_extension": ".py",
   "mimetype": "text/x-python",
   "name": "python",
   "nbconvert_exporter": "python",
   "pygments_lexer": "ipython3",
   "version": "3.11.4"
  },
  "orig_nbformat": 4
 },
 "nbformat": 4,
 "nbformat_minor": 2
}
