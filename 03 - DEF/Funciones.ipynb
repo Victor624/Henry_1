{
 "cells": [
  {
   "cell_type": "code",
   "execution_count": 33,
   "metadata": {},
   "outputs": [],
   "source": [
    "import pandas as pd\n",
    "import ast\n",
    "import numpy as np\n",
    "df=pd.read_csv(\"../01 - ETL/06 - Dataset Para Funciones y EDA/Funcio.csv\")"
   ]
  },
  {
   "cell_type": "code",
   "execution_count": 34,
   "metadata": {},
   "outputs": [],
   "source": [
    "pd.set_option('display.max_columns', None)  # Mostrar todas las columnas"
   ]
  },
  {
   "cell_type": "code",
   "execution_count": 35,
   "metadata": {},
   "outputs": [
    {
     "data": {
      "text/plain": [
       "0          'Asterix and Obelix Collection'\n",
       "1                                       0 \n",
       "2                                       0 \n",
       "3                                       0 \n",
       "4                    'The Cremaster Cycle'\n",
       "                       ...                \n",
       "22497                                   0 \n",
       "22498                                   0 \n",
       "22499                                   0 \n",
       "22500                                   0 \n",
       "22501                                   0 \n",
       "Name: name_belong, Length: 22502, dtype: object"
      ]
     },
     "execution_count": 35,
     "metadata": {},
     "output_type": "execute_result"
    }
   ],
   "source": [
    "df[\"name_belong\"]"
   ]
  },
  {
   "cell_type": "markdown",
   "metadata": {},
   "source": [
    "La funcion idioma se ingresa un idioma y devuelve la cantidad de peliculas hechas en ese idioma"
   ]
  },
  {
   "cell_type": "code",
   "execution_count": 16,
   "metadata": {},
   "outputs": [
    {
     "data": {
      "text/plain": [
       "array(['en', 'fr', 'zh', 'it', 'fa', 'nl', 'de', 'cn', 'ar', 'es', 'ru',\n",
       "       'sv', 'ja', 'ko', 'sr', 'bn', 'he', 'pt', 'wo', 'ro', 'hu', 'cy',\n",
       "       'vi', 'cs', 'da', 'no', 'nb', 'pl', 'el', 'sh', 'xx', 'mk', 'bo',\n",
       "       'ca', 'fi', 'th', 'sk', 'bs', 'hi', 'tr', 'is', 'ps', 'ab', 'eo',\n",
       "       'ka', 'mn', 'bm', 'zu', 'uk', 'af', 'la', 'et', 'ku', 'fy', 'lv',\n",
       "       'ta', 'sl', 'tl', 'ur', 'rw', 'id', 'bg', 'mr', 'lt', 'kk', 'ms',\n",
       "       'sq', nan, '104.0', 'qu', 'te', 'am', 'jv', 'tg', 'ml', 'hr', 'lo',\n",
       "       'ay', 'kn', 'eu', 'ne', 'pa', 'ky', 'gl', '68.0', 'uz', 'sm', 'mt',\n",
       "       '82.0', 'hy', 'iu', 'lb', 'si'], dtype=object)"
      ]
     },
     "execution_count": 16,
     "metadata": {},
     "output_type": "execute_result"
    }
   ],
   "source": [
    "idioma=df['original_language']\n",
    "idioma.unique()"
   ]
  },
  {
   "cell_type": "code",
   "execution_count": 4,
   "metadata": {},
   "outputs": [],
   "source": [
    "def Idioma(x):\n",
    "    Lista=[]\n",
    "    idioma=df['original_language']\n",
    "    \n",
    "    for i in idioma:\n",
    "        if i == x:\n",
    "            Lista.append(x)\n",
    "        else:\n",
    "            pass\n",
    "    \n",
    "    cant=len(Lista)\n",
    "    result=print(\"La cantidad de peliculas hechas con el idioma\",x,\"son\",cant)\n",
    "    return result"
   ]
  },
  {
   "cell_type": "code",
   "execution_count": 5,
   "metadata": {},
   "outputs": [
    {
     "name": "stdout",
     "output_type": "stream",
     "text": [
      "La cantidad de peliculas hechas con el idioma en son 32202\n"
     ]
    }
   ],
   "source": [
    "Idioma(\"en\")\n",
    "\n"
   ]
  },
  {
   "cell_type": "markdown",
   "metadata": {},
   "source": [
    "La funcion Pelicula Duracion devuelve cuando fue estrenada y cuantos minutos dura.-"
   ]
  },
  {
   "cell_type": "code",
   "execution_count": 17,
   "metadata": {},
   "outputs": [
    {
     "data": {
      "text/plain": [
       "array(['Toy Story', 'Jumanji', 'Grumpier Old Men', ...,\n",
       "       'Century of Birthing', 'Satan Triumphant', 'Queerama'],\n",
       "      dtype=object)"
      ]
     },
     "execution_count": 17,
     "metadata": {},
     "output_type": "execute_result"
    }
   ],
   "source": [
    "Pelicula=df['title']\n",
    "Pelicula.unique()"
   ]
  },
  {
   "cell_type": "code",
   "execution_count": 6,
   "metadata": {},
   "outputs": [],
   "source": [
    "def peliculas_duracion(x):\n",
    "    x=x.lower().title()\n",
    "    Pelicula=df['title']\n",
    "    Cantidad=-1\n",
    "    for i in Pelicula:\n",
    "        Cantidad+=1\n",
    "        if i == x:\n",
    "            break\n",
    "        else:\n",
    "            Cantidad+=1\n",
    "    Peli=df[[\"release_year\",\"runtime\"]]\n",
    "    Peli=pd.DataFrame(Peli)\n",
    "    Peli=Peli.loc[Cantidad]\n",
    "    Peli=print(\"La pelicula <\",x, \"> Fue estrenada en:\",Peli[0],\"y tiene una duracion de\",Peli[1],\"minutos\")\n",
    "    \n",
    "            \n",
    "    return Peli\n",
    "    "
   ]
  },
  {
   "cell_type": "code",
   "execution_count": 7,
   "metadata": {},
   "outputs": [
    {
     "name": "stdout",
     "output_type": "stream",
     "text": [
      "La pelicula < Toy Story > Fue estrenada en: 1995 y tiene una duracion de 81 minutos\n"
     ]
    }
   ],
   "source": [
    "peliculas_duracion(\"Toy Story\")\n"
   ]
  },
  {
   "cell_type": "code",
   "execution_count": 37,
   "metadata": {},
   "outputs": [
    {
     "data": {
      "text/plain": [
       "array([\"  'Asterix and Obelix Collection'\", ' 0 ',\n",
       "       \"  'The Cremaster Cycle'\", ...,\n",
       "       \"  'Fright Night (Reboot) Collection'\", \"  'Tetsuo Collection'\",\n",
       "       \"  'Superman (DC Universe Animated) Collection'\"], dtype=object)"
      ]
     },
     "execution_count": 37,
     "metadata": {},
     "output_type": "execute_result"
    }
   ],
   "source": [
    "Franqui=df['name_belong']\n",
    "Franqui.unique()"
   ]
  },
  {
   "cell_type": "markdown",
   "metadata": {},
   "source": [
    "La funcion Franquicias devuelve la cantidad de peliculas que hizo la productora, cuanta es la ganancia y el promedio \n",
    "que hizo por pelicula.-"
   ]
  },
  {
   "cell_type": "code",
   "execution_count": 40,
   "metadata": {},
   "outputs": [],
   "source": [
    "def Franquicias(x):\n",
    "    Franqui=df['name_belong']\n",
    "    Cantidad=0\n",
    "    Cant_Peli=0\n",
    "    Ganancias=[]\n",
    "    total=sum(Ganancias)\n",
    "    for i in Franqui:\n",
    "        i=str(i)\n",
    "        Cantidad+=1\n",
    "        if x in i:\n",
    "            Peli=df[\"Return\"]\n",
    "            Peli=pd.DataFrame(Peli)\n",
    "            Peli=Peli.loc[Cantidad]\n",
    "            Ganancias.append(Peli)\n",
    "            Cant_Peli+=1\n",
    "        \n",
    "    if len(Ganancias) > 0:\n",
    "        Ganancias\n",
    "        Ganancias=pd.DataFrame(Ganancias)\n",
    "        Ganancias=Ganancias.dropna()\n",
    "        Ganancias=Ganancias[\"Return\"].replace(np.inf, 0)\n",
    "        Ganancias=pd.DataFrame(Ganancias)\n",
    "        suma = Ganancias[\"Return\"].sum().round(2)\n",
    "        result=\"La franquicia hizo \",Cant_Peli,\"con una ganancia total de\",suma.round(2),\"y un promedio de\",(suma/Cant_Peli).round(2)\n",
    "    else:\n",
    "        \n",
    "        result=\"No hay una frnaquicia con ese Nombre\"\n",
    "    return result"
   ]
  },
  {
   "cell_type": "code",
   "execution_count": 42,
   "metadata": {},
   "outputs": [
    {
     "data": {
      "text/plain": [
       "('La franquicia hizo ',\n",
       " 1,\n",
       " 'con una ganancia total de',\n",
       " 1.29,\n",
       " 'y un promedio de',\n",
       " 1.29)"
      ]
     },
     "execution_count": 42,
     "metadata": {},
     "output_type": "execute_result"
    }
   ],
   "source": [
    "Franquicias(\"The Cremaster Cycle\")"
   ]
  },
  {
   "cell_type": "markdown",
   "metadata": {},
   "source": [
    "La Funcion Pelicula_Pais devuelve la catidad de peliculas que se produjeron en el pais solicitado.-"
   ]
  },
  {
   "cell_type": "code",
   "execution_count": 18,
   "metadata": {},
   "outputs": [
    {
     "data": {
      "text/plain": [
       "array(['United States of America', 'Germany United States of America',\n",
       "       'United Kingdom United States of America', ...,\n",
       "       'Poland Czech Republic Slovakia', 'Cuba Germany Spain',\n",
       "       'Egypt Italy United States of America'], dtype=object)"
      ]
     },
     "execution_count": 18,
     "metadata": {},
     "output_type": "execute_result"
    }
   ],
   "source": [
    "pais=df['name_Count']\n",
    "pais.unique()"
   ]
  },
  {
   "cell_type": "code",
   "execution_count": 43,
   "metadata": {},
   "outputs": [],
   "source": [
    "def peliculas_pais(x):\n",
    "    pais=df['name_Count']\n",
    "    Lugar=0\n",
    "    Cant_Peli=0\n",
    "   \n",
    "    for i in pais:\n",
    "        i=str(i)\n",
    "        Lugar+=1\n",
    "        if x == i:\n",
    "            \n",
    "            Cant_Peli+=1\n",
    "        \n",
    "    if Cant_Peli > 0:       \n",
    "\n",
    "        result=\"Se produjeron\",Cant_Peli,\"en el pais\",x\n",
    "    else:\n",
    "        \n",
    "        result=\"No se peliculas hechas en el pais\",x\n",
    "            \n",
    "          \n",
    "    return result"
   ]
  },
  {
   "cell_type": "code",
   "execution_count": 20,
   "metadata": {},
   "outputs": [
    {
     "data": {
      "text/plain": [
       "('Se produjeron', 17846, 'en el pais', 'United States of America')"
      ]
     },
     "execution_count": 20,
     "metadata": {},
     "output_type": "execute_result"
    }
   ],
   "source": [
    "peliculas_pais(\"United States of America\")"
   ]
  },
  {
   "cell_type": "markdown",
   "metadata": {},
   "source": [
    "La Funcion Productoras_exitosas devuelve la cantidad de peliculas que hizo la productora y la ganancia total de la productora.-"
   ]
  },
  {
   "cell_type": "code",
   "execution_count": 12,
   "metadata": {},
   "outputs": [],
   "source": [
    "def productoras_exitosas(x):\n",
    "    Franqui=df['name_prod']\n",
    "    Cantidad=0\n",
    "    Cant_Peli=0\n",
    "    revenue=[]\n",
    "    for i in Franqui:\n",
    "        i=str(i)\n",
    "        Cantidad+=1\n",
    "        if x in i:\n",
    "            Peli=df[\"revenue\"]\n",
    "            Peli=pd.DataFrame(Peli)\n",
    "            Peli=Peli.loc[Cantidad]\n",
    "            revenue.append(Peli)\n",
    "            Cant_Peli+=1\n",
    "        \n",
    "    if len(revenue) > 0:\n",
    "        revenue=pd.DataFrame(revenue)\n",
    "        revenue=revenue.dropna()\n",
    "        revenue=revenue[\"revenue\"].replace(np.inf, 0)\n",
    "        revenue=pd.DataFrame(revenue)\n",
    "        suma = revenue[\"revenue\"].sum().round(2)\n",
    "        result=\"La productora hizo \",Cant_Peli,\"con un reveue total de\",suma.round(2)\n",
    "    else:\n",
    "        \n",
    "        result=\"No hay una productora con ese Nombre\"\n",
    "            \n",
    "          \n",
    "    return result"
   ]
  },
  {
   "cell_type": "code",
   "execution_count": 44,
   "metadata": {},
   "outputs": [
    {
     "data": {
      "text/plain": [
       "('La productora hizo ', 565, 'con un reveue total de', 5613759962.0)"
      ]
     },
     "execution_count": 44,
     "metadata": {},
     "output_type": "execute_result"
    }
   ],
   "source": [
    "productoras_exitosas(\"Universal\")"
   ]
  },
  {
   "cell_type": "markdown",
   "metadata": {},
   "source": [
    "La funcion Directores devuelve las 5 peliculas con mayor ganancia que dejo el director solicitado.-"
   ]
  },
  {
   "cell_type": "code",
   "execution_count": 45,
   "metadata": {},
   "outputs": [],
   "source": [
    "def Directores(x):\n",
    "    Franqui=df['Director']\n",
    "    titl=[]\n",
    "    posi=-1\n",
    "    for i in Franqui:\n",
    "        i=str(i)\n",
    "        posi+=1\n",
    "        if x in i:           \n",
    "            title=df[[\"title\",\"release_date\",\"revenue\",\"Return\"]]\n",
    "            title=pd.DataFrame(title)\n",
    "            title=title.loc[posi]\n",
    "            titl.append(title)\n",
    "        else:\n",
    "            pass\n",
    "    Lista=pd.DataFrame(titl)\n",
    "    Lista=Lista.sort_values(\"Return\",ascending=False)\n",
    "    Lista=Lista.reset_index()\n",
    "    Lista=Lista[[\"title\",\"release_date\",\"revenue\",\"Return\"]]\n",
    "    Lista=Lista[0:5]\n",
    "    \n",
    "           \n",
    "          \n",
    "    return Lista.to_dict()"
   ]
  },
  {
   "cell_type": "code",
   "execution_count": 15,
   "metadata": {},
   "outputs": [
    {
     "data": {
      "text/plain": [
       "{'title': {0: 'American Graffiti',\n",
       "  1: 'Star Wars',\n",
       "  2: 'Star Wars: Episode I - The Phantom Menace',\n",
       "  3: 'Star Wars: Episode III - Revenge of the Sith',\n",
       "  4: 'Star Wars: Episode II - Attack of the Clones'},\n",
       " 'release_date': {0: '1973-08-01',\n",
       "  1: '1977-05-25',\n",
       "  2: '1999-05-19',\n",
       "  3: '2005-05-17',\n",
       "  4: '2002-05-15'},\n",
       " 'revenue': {0: 140000000.0,\n",
       "  1: 775398007.0,\n",
       "  2: 924317558.0,\n",
       "  3: 850000000.0,\n",
       "  4: 649398328.0},\n",
       " 'Return': {0: 180.18018018018017,\n",
       "  1: 70.49072790909091,\n",
       "  2: 8.037543982608696,\n",
       "  3: 7.522123893805309,\n",
       "  4: 5.411652733333334}}"
      ]
     },
     "execution_count": 15,
     "metadata": {},
     "output_type": "execute_result"
    }
   ],
   "source": [
    "Directores('George Lucas')"
   ]
  }
 ],
 "metadata": {
  "kernelspec": {
   "display_name": "henry",
   "language": "python",
   "name": "python3"
  },
  "language_info": {
   "codemirror_mode": {
    "name": "ipython",
    "version": 3
   },
   "file_extension": ".py",
   "mimetype": "text/x-python",
   "name": "python",
   "nbconvert_exporter": "python",
   "pygments_lexer": "ipython3",
   "version": "3.11.4"
  },
  "orig_nbformat": 4
 },
 "nbformat": 4,
 "nbformat_minor": 2
}
