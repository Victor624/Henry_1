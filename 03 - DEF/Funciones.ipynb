{
 "cells": [
  {
   "cell_type": "code",
   "execution_count": 1,
   "metadata": {},
   "outputs": [],
   "source": [
    "import pandas as pd\n",
    "import ast\n",
    "import numpy as np\n",
    "df=pd.read_csv(\"../01 - ETL/06 - Dataset Para Funciones y EDA/Funcio.csv\")"
   ]
  },
  {
   "cell_type": "code",
   "execution_count": 2,
   "metadata": {},
   "outputs": [],
   "source": [
    "pd.set_option('display.max_columns', None)  # Mostrar todas las columnas"
   ]
  },
  {
   "cell_type": "markdown",
   "metadata": {},
   "source": [
    "La funcion idioma se ingresa un idioma y devuelve la cantidad de peliculas hechas en ese idioma"
   ]
  },
  {
   "cell_type": "code",
   "execution_count": 3,
   "metadata": {},
   "outputs": [
    {
     "data": {
      "text/plain": [
       "array(['en', 'da', 'pt', 'fr', 'it', 'ru', 'zh', 'ko', 'sv', 'fa', 'es',\n",
       "       'ja', 'de', 'fi', 'et', 'cn', 'nl', 'sk', nan, 'hi', 'pl', 'tr',\n",
       "       'sl', 'no', 'ta', 'cs', 'ne', 'ca', 'sr', 'mr', 'ml', 'ro', 'ar',\n",
       "       'th', 'ms', 'tl', 'hu', 'el', 'te', 'bn', 'is', 'hy', 'nb', 'lt',\n",
       "       'af', 'hr', 'xx', 'ky', 'he', 'sm', 'ka', 'bg', 'mn', 'ab', 'ku',\n",
       "       'qu', 'id', 'lo', 'si', 'wo', 'kn', 'bo', 'pa', 'bs', 'gl', 'uk',\n",
       "       'bm', 'la', 'eu', 'ur', 'lv', 'vi', 'sq', 'sh', 'iu', 'ay', 'kk',\n",
       "       'cy', 'mk', 'am', 'fy', 'tg'], dtype=object)"
      ]
     },
     "execution_count": 3,
     "metadata": {},
     "output_type": "execute_result"
    }
   ],
   "source": [
    "idioma=df['original_language']\n",
    "idioma.unique()"
   ]
  },
  {
   "cell_type": "code",
   "execution_count": 4,
   "metadata": {},
   "outputs": [],
   "source": [
    "def Idioma(x):\n",
    "    Lista=[]\n",
    "    idioma=df['original_language']\n",
    "    \n",
    "    for i in idioma:\n",
    "        if i == x:\n",
    "            Lista.append(x)\n",
    "        else:\n",
    "            pass\n",
    "    \n",
    "    cant=len(Lista)\n",
    "    result=print(\"La cantidad de peliculas hechas con el idioma\",x,\"son\",cant)\n",
    "    return result"
   ]
  },
  {
   "cell_type": "code",
   "execution_count": 5,
   "metadata": {},
   "outputs": [
    {
     "name": "stdout",
     "output_type": "stream",
     "text": [
      "La cantidad de peliculas hechas con el idioma en son 16099\n"
     ]
    }
   ],
   "source": [
    "Idioma(\"en\")\n",
    "\n"
   ]
  },
  {
   "cell_type": "markdown",
   "metadata": {},
   "source": [
    "La funcion Pelicula Duracion devuelve cuando fue estrenada y cuantos minutos dura.-"
   ]
  },
  {
   "cell_type": "code",
   "execution_count": 6,
   "metadata": {},
   "outputs": [
    {
     "data": {
      "text/plain": [
       "array(['Terms of Endearment', 'The Entertainer',\n",
       "       'Jim Henson’s Turkey Hollow', ..., 'Twitches',\n",
       "       'Breaking The Surface: The Greg Louganis Story', 'The Family Man'],\n",
       "      dtype=object)"
      ]
     },
     "execution_count": 6,
     "metadata": {},
     "output_type": "execute_result"
    }
   ],
   "source": [
    "Pelicula=df['title']\n",
    "Pelicula.unique()"
   ]
  },
  {
   "cell_type": "code",
   "execution_count": 7,
   "metadata": {},
   "outputs": [],
   "source": [
    "def peliculas_duracion(x):\n",
    "\n",
    "    x=x.lower().title()\n",
    "    Pelicula=df['title']\n",
    "    Cantidad=-1\n",
    "    for i in Pelicula:\n",
    "        Cantidad+=1\n",
    "        if i == x:\n",
    "            break\n",
    "        else:\n",
    "            pass\n",
    "    Peli=df[[\"release_year\",\"runtime\"]]\n",
    "    Peli=pd.DataFrame(Peli)\n",
    "    Peli=Peli.loc[Cantidad]\n",
    "    Peli=print(\"La pelicula <\",x, \"> Fue estrenada en:\",Peli[0],\"y tiene una duracion de\",Peli[1],\"minutos\")\n",
    "    \n",
    "            \n",
    "    return Peli\n",
    "    "
   ]
  },
  {
   "cell_type": "code",
   "execution_count": 8,
   "metadata": {},
   "outputs": [
    {
     "name": "stdout",
     "output_type": "stream",
     "text": [
      "La pelicula < Terms Of Endearment > Fue estrenada en: 2000 y tiene una duracion de 125 minutos\n"
     ]
    }
   ],
   "source": [
    "peliculas_duracion(\"Terms of Endearment\")\n"
   ]
  },
  {
   "cell_type": "code",
   "execution_count": 9,
   "metadata": {},
   "outputs": [
    {
     "data": {
      "text/plain": [
       "array([' 0 ', \"  'Inner Sanctum mysteries'\", \"  'Облако-рай (Коллекция)'\",\n",
       "       ..., \"  'The Whole Nine/Ten Yards Collection'\",\n",
       "       \"  'Napapiirin sankarit'\", \"  'Twitches Collection'\"], dtype=object)"
      ]
     },
     "execution_count": 9,
     "metadata": {},
     "output_type": "execute_result"
    }
   ],
   "source": [
    "Franqui=df['name_belong']\n",
    "Franqui.unique()"
   ]
  },
  {
   "cell_type": "markdown",
   "metadata": {},
   "source": [
    "La funcion Franquicias devuelve la cantidad de peliculas que hizo la productora, cuanta es la ganancia y el promedio \n",
    "que hizo por pelicula.-"
   ]
  },
  {
   "cell_type": "code",
   "execution_count": 10,
   "metadata": {},
   "outputs": [],
   "source": [
    "def Franquicias(x):\n",
    "    Franqui=df['name_belong']\n",
    "    Cantidad=0\n",
    "    Cant_Peli=0\n",
    "    Ganancias=[]\n",
    "    total=sum(Ganancias)\n",
    "    for i in Franqui:\n",
    "        i=str(i)\n",
    "        Cantidad+=1\n",
    "        if x in i:\n",
    "            Peli=df[\"Return\"]\n",
    "            Peli=pd.DataFrame(Peli)\n",
    "            Peli=Peli.loc[Cantidad]\n",
    "            Ganancias.append(Peli)\n",
    "            Cant_Peli+=1\n",
    "        \n",
    "    if len(Ganancias) > 0:\n",
    "        Ganancias\n",
    "        Ganancias=pd.DataFrame(Ganancias)\n",
    "        Ganancias=Ganancias.dropna()\n",
    "        Ganancias=Ganancias[\"Return\"].replace(np.inf, 0)\n",
    "        Ganancias=pd.DataFrame(Ganancias)\n",
    "        suma = Ganancias[\"Return\"].sum().round(2)\n",
    "        result=\"La franquicia hizo \",Cant_Peli,\"con una ganancia total de\",suma.round(2),\"y un promedio de\",(suma/Cant_Peli).round(2)\n",
    "    else:\n",
    "        \n",
    "        result=\"No hay una frnaquicia con ese Nombre\"\n",
    "    return result"
   ]
  },
  {
   "cell_type": "code",
   "execution_count": 11,
   "metadata": {},
   "outputs": [
    {
     "data": {
      "text/plain": [
       "('La franquicia hizo ',\n",
       " 2,\n",
       " 'con una ganancia total de',\n",
       " 0.0,\n",
       " 'y un promedio de',\n",
       " 0.0)"
      ]
     },
     "execution_count": 11,
     "metadata": {},
     "output_type": "execute_result"
    }
   ],
   "source": [
    "Franquicias(\"Asterix and Obelix Collection\")"
   ]
  },
  {
   "cell_type": "markdown",
   "metadata": {},
   "source": [
    "La Funcion Pelicula_Pais devuelve la catidad de peliculas que se produjeron en el pais solicitado.-"
   ]
  },
  {
   "cell_type": "code",
   "execution_count": 12,
   "metadata": {},
   "outputs": [
    {
     "data": {
      "text/plain": [
       "array(['United States of America', 'United Kingdom', nan, ...,\n",
       "       'France United Kingdom Germany', 'India Switzerland Germany',\n",
       "       'Finland Sweden Denmark'], dtype=object)"
      ]
     },
     "execution_count": 12,
     "metadata": {},
     "output_type": "execute_result"
    }
   ],
   "source": [
    "pais=df['name_Count']\n",
    "pais.unique()"
   ]
  },
  {
   "cell_type": "code",
   "execution_count": 13,
   "metadata": {},
   "outputs": [],
   "source": [
    "def peliculas_pais(x):\n",
    "    pais=df['name_Count']\n",
    "    Lugar=0\n",
    "    Cant_Peli=0\n",
    "   \n",
    "    for i in pais:\n",
    "        i=str(i)\n",
    "        Lugar+=1\n",
    "        if x == i:\n",
    "            \n",
    "            Cant_Peli+=1\n",
    "        \n",
    "    if Cant_Peli > 0:       \n",
    "\n",
    "        result=\"Se produjeron\",Cant_Peli,\"en el pais\",x\n",
    "    else:\n",
    "        \n",
    "        result=\"No se peliculas hechas en el pais\",x\n",
    "            \n",
    "          \n",
    "    return result"
   ]
  },
  {
   "cell_type": "code",
   "execution_count": 14,
   "metadata": {},
   "outputs": [
    {
     "data": {
      "text/plain": [
       "('Se produjeron', 8897, 'en el pais', 'United States of America')"
      ]
     },
     "execution_count": 14,
     "metadata": {},
     "output_type": "execute_result"
    }
   ],
   "source": [
    "peliculas_pais(\"United States of America\")"
   ]
  },
  {
   "cell_type": "markdown",
   "metadata": {},
   "source": [
    "La Funcion Productoras_exitosas devuelve la cantidad de peliculas que hizo la productora y la ganancia total de la productora.-"
   ]
  },
  {
   "cell_type": "code",
   "execution_count": 17,
   "metadata": {},
   "outputs": [
    {
     "data": {
      "text/plain": [
       "0                                       Paramount Pictures\n",
       "1                                Woodfall Film Productions\n",
       "2                                                      NaN\n",
       "3                                                      NaN\n",
       "4                    Deviant Films Silver Nitrate Pictures\n",
       "                               ...                        \n",
       "22498    Fine Line Features Téléfilm Canada First Gener...\n",
       "22499                                         Warner Bros.\n",
       "22500                                       Disney Channel\n",
       "22501    Green/Epstein Productions World International ...\n",
       "22502                                   Universal Pictures\n",
       "Name: name_prod, Length: 22503, dtype: object"
      ]
     },
     "execution_count": 17,
     "metadata": {},
     "output_type": "execute_result"
    }
   ],
   "source": [
    "df['name_prod']"
   ]
  },
  {
   "cell_type": "code",
   "execution_count": 15,
   "metadata": {},
   "outputs": [],
   "source": [
    "def productoras_exitosas(x):\n",
    "    Franqui=df['name_prod']\n",
    "    Cantidad=0\n",
    "    Cant_Peli=0\n",
    "    revenue=[]\n",
    "    for i in Franqui:\n",
    "        i=str(i)\n",
    "        Cantidad+=1\n",
    "        if x in i:\n",
    "            Peli=df[\"revenue\"]\n",
    "            Peli=pd.DataFrame(Peli)\n",
    "            Peli=Peli.loc[Cantidad]\n",
    "            revenue.append(Peli)\n",
    "            Cant_Peli+=1\n",
    "        \n",
    "    if len(revenue) > 0:\n",
    "        revenue=pd.DataFrame(revenue)\n",
    "        revenue=revenue.dropna()\n",
    "        revenue=revenue[\"revenue\"].replace(np.inf, 0)\n",
    "        revenue=pd.DataFrame(revenue)\n",
    "        suma = revenue[\"revenue\"].sum().round(2)\n",
    "        result=\"La productora hizo \",Cant_Peli,\"con un reveue total de\",suma.round(2)\n",
    "    else:\n",
    "        \n",
    "        result=\"No hay una productora con ese Nombre\"\n",
    "            \n",
    "          \n",
    "    return result"
   ]
  },
  {
   "cell_type": "code",
   "execution_count": 18,
   "metadata": {},
   "outputs": [
    {
     "data": {
      "text/plain": [
       "('La productora hizo ', 543, 'con un reveue total de', 5378082368.0)"
      ]
     },
     "execution_count": 18,
     "metadata": {},
     "output_type": "execute_result"
    }
   ],
   "source": [
    "productoras_exitosas(\"Paramount\")"
   ]
  },
  {
   "cell_type": "markdown",
   "metadata": {},
   "source": [
    "La funcion Directores devuelve las 5 peliculas con mayor ganancia que dejo el director solicitado.-"
   ]
  },
  {
   "cell_type": "code",
   "execution_count": null,
   "metadata": {},
   "outputs": [
    {
     "data": {
      "text/plain": [
       "array([\"  'Laurent Tirard'\", \"  'Paul Wendkos'\", \"  'David Lowery'\", ...,\n",
       "       \"  'Robert Meyer Burnett'\", \"  'Pen Densham'\", \"  'Peter Hearn'\"],\n",
       "      dtype=object)"
      ]
     },
     "execution_count": 14,
     "metadata": {},
     "output_type": "execute_result"
    }
   ],
   "source": [
    "Franqui=df['Director']\n",
    "Franqui.unique()"
   ]
  },
  {
   "cell_type": "code",
   "execution_count": null,
   "metadata": {},
   "outputs": [],
   "source": [
    "def Directores(x):\n",
    "    Franqui=df['Director']\n",
    "    titl=[]\n",
    "    posi=-1\n",
    "    for i in Franqui:\n",
    "        i=str(i)\n",
    "        posi+=1\n",
    "        if x in i:           \n",
    "            title=df[[\"title\",\"release_date\",\"revenue\",\"Return\"]]\n",
    "            title=pd.DataFrame(title)\n",
    "            title=title.loc[posi]\n",
    "            titl.append(title)\n",
    "        else:\n",
    "            pass\n",
    "    Lista=pd.DataFrame(titl)\n",
    "    Lista=Lista.sort_values(\"Return\",ascending=False)\n",
    "    Lista=Lista.reset_index()\n",
    "    Lista=Lista[[\"title\",\"release_date\",\"revenue\",\"Return\"]]\n",
    "    Lista=Lista[0:5]\n",
    "    \n",
    "           \n",
    "          \n",
    "    return Lista.to_dict()"
   ]
  },
  {
   "cell_type": "code",
   "execution_count": null,
   "metadata": {},
   "outputs": [
    {
     "data": {
      "text/plain": [
       "{'title': {0: 'Bar Sport',\n",
       "  1: 'Face of a Fugitive',\n",
       "  2: \"Betty Boop's Hallowe'en Party\",\n",
       "  3: 'In Society',\n",
       "  4: 'Fatal Contact: Bird Flu in America'},\n",
       " 'release_date': {0: '2011-10-21',\n",
       "  1: '1959-05-01',\n",
       "  2: '1933-11-03',\n",
       "  3: '1944-08-16',\n",
       "  4: '2006-05-09'},\n",
       " 'revenue': {0: 0.0, 1: 0.0, 2: 0.0, 3: 0.0, 4: 0.0},\n",
       " 'Return': {0: 0.0, 1: nan, 2: nan, 3: nan, 4: nan}}"
      ]
     },
     "execution_count": 37,
     "metadata": {},
     "output_type": "execute_result"
    }
   ],
   "source": [
    "Directores('Paul Wendkos')"
   ]
  }
 ],
 "metadata": {
  "kernelspec": {
   "display_name": "henry",
   "language": "python",
   "name": "python3"
  },
  "language_info": {
   "codemirror_mode": {
    "name": "ipython",
    "version": 3
   },
   "file_extension": ".py",
   "mimetype": "text/x-python",
   "name": "python",
   "nbconvert_exporter": "python",
   "pygments_lexer": "ipython3",
   "version": "3.11.4"
  },
  "orig_nbformat": 4
 },
 "nbformat": 4,
 "nbformat_minor": 2
}
