{
 "cells": [
  {
   "cell_type": "code",
   "execution_count": 3,
   "metadata": {},
   "outputs": [],
   "source": [
    "import pandas as pd\n",
    "from sklearn.neighbors import NearestNeighbors"
   ]
  },
  {
   "cell_type": "code",
   "execution_count": 4,
   "metadata": {},
   "outputs": [],
   "source": [
    "ML=pd.read_csv('../01 - ETL/06 - Dataset Para Funciones y EDA/Machine.csv')\n",
    "#ML=ML.sample(frac=1)\n",
    "ML=ML.reset_index()"
   ]
  },
  {
   "cell_type": "code",
   "execution_count": 5,
   "metadata": {},
   "outputs": [
    {
     "data": {
      "text/html": [
       "<div>\n",
       "<style scoped>\n",
       "    .dataframe tbody tr th:only-of-type {\n",
       "        vertical-align: middle;\n",
       "    }\n",
       "\n",
       "    .dataframe tbody tr th {\n",
       "        vertical-align: top;\n",
       "    }\n",
       "\n",
       "    .dataframe thead th {\n",
       "        text-align: right;\n",
       "    }\n",
       "</style>\n",
       "<table border=\"1\" class=\"dataframe\">\n",
       "  <thead>\n",
       "    <tr style=\"text-align: right;\">\n",
       "      <th></th>\n",
       "      <th>index</th>\n",
       "      <th>title</th>\n",
       "      <th>name_genres</th>\n",
       "      <th>popularity</th>\n",
       "    </tr>\n",
       "  </thead>\n",
       "  <tbody>\n",
       "    <tr>\n",
       "      <th>0</th>\n",
       "      <td>0</td>\n",
       "      <td>Terms of Endearment</td>\n",
       "      <td>Drama Comedy</td>\n",
       "      <td>8.785209</td>\n",
       "    </tr>\n",
       "    <tr>\n",
       "      <th>1</th>\n",
       "      <td>1</td>\n",
       "      <td>The Entertainer</td>\n",
       "      <td>Drama Music</td>\n",
       "      <td>2.678395</td>\n",
       "    </tr>\n",
       "    <tr>\n",
       "      <th>2</th>\n",
       "      <td>2</td>\n",
       "      <td>Jim Henson’s Turkey Hollow</td>\n",
       "      <td>TV Movie Comedy</td>\n",
       "      <td>0.625631</td>\n",
       "    </tr>\n",
       "    <tr>\n",
       "      <th>3</th>\n",
       "      <td>3</td>\n",
       "      <td>The Diamond Fleece</td>\n",
       "      <td>NaN</td>\n",
       "      <td>0.050855</td>\n",
       "    </tr>\n",
       "    <tr>\n",
       "      <th>4</th>\n",
       "      <td>4</td>\n",
       "      <td>Dirty</td>\n",
       "      <td>Crime Drama Thriller</td>\n",
       "      <td>2.307940</td>\n",
       "    </tr>\n",
       "  </tbody>\n",
       "</table>\n",
       "</div>"
      ],
      "text/plain": [
       "   index                       title           name_genres  popularity\n",
       "0      0         Terms of Endearment          Drama Comedy    8.785209\n",
       "1      1             The Entertainer           Drama Music    2.678395\n",
       "2      2  Jim Henson’s Turkey Hollow       TV Movie Comedy    0.625631\n",
       "3      3          The Diamond Fleece                   NaN    0.050855\n",
       "4      4                       Dirty  Crime Drama Thriller    2.307940"
      ]
     },
     "execution_count": 5,
     "metadata": {},
     "output_type": "execute_result"
    }
   ],
   "source": [
    "ML.head()"
   ]
  },
  {
   "cell_type": "code",
   "execution_count": 6,
   "metadata": {},
   "outputs": [],
   "source": [
    "\n",
    "def Pelis_recom(pelicula):\n",
    "    # archivo CSV con los datos\n",
    "    ML_DF1 = ML\n",
    "\n",
    "    # Buscar la película por título en la columna 'title'\n",
    "    movie = ML_DF1[ML_DF1['title'] == pelicula]\n",
    "\n",
    "    if len(movie) == 0:\n",
    "        return \"La película no se encuentra en la base de datos.\"\n",
    "\n",
    "    # Obtener el género y la popularidad de la película\n",
    "    movie_genero = movie['name_genres'].values[0]\n",
    "    movie_popularity = movie['popularity'].values[0]\n",
    "\n",
    "    # matriz de características para el modelo de vecinos más cercanos\n",
    "    features = ML_DF1[['popularity']]\n",
    "    genres = ML_DF1['name_genres'].str.get_dummies(sep=' ')\n",
    "    features = pd.concat([features, genres], axis=1)\n",
    "\n",
    "    # Manejar valores faltantes (NaN) reemplazándolos por ceros\n",
    "    features = features.fillna(0)\n",
    "\n",
    "    # modelo de vecinos más cercanos\n",
    "    nn_model = NearestNeighbors(n_neighbors=6, metric='euclidean')\n",
    "    nn_model.fit(features)\n",
    "\n",
    "    # Encontrar las películas más similares (excluyendo la película de consulta indicada por usuario)\n",
    "    _, indices = nn_model.kneighbors([[movie_popularity] + [0] * len(genres.columns)], n_neighbors=6)\n",
    "    similar_movies_indices = indices[0][1:]  # Excluyendo la primera película que es la misma consulta\n",
    "    Pelis_recom = ML_DF1.iloc[similar_movies_indices]['title']\n",
    "\n",
    "    # Si la película de consulta está en la lista de recomendaciones, la eliminamos\n",
    "    if pelicula in Pelis_recom.tolist():\n",
    "        Pelis_recom = Pelis_recom[Pelis_recom != pelicula]\n",
    "        \n",
    "    Lista=pd.DataFrame(Pelis_recom)\n",
    "    \n",
    "    Lista=Lista.reset_index()\n",
    "    #Lista=Lista[[\"title\",\"release_date\",\"revenue\",\"Return\"]]\n",
    "    Lista=Lista[0:5]\n",
    "\n",
    "    return Lista"
   ]
  },
  {
   "cell_type": "code",
   "execution_count": 8,
   "metadata": {},
   "outputs": [
    {
     "name": "stderr",
     "output_type": "stream",
     "text": [
      "c:\\Users\\Usuario\\Documents\\GitHub\\Henry_1\\henry\\Lib\\site-packages\\sklearn\\base.py:464: UserWarning: X does not have valid feature names, but NearestNeighbors was fitted with feature names\n",
      "  warnings.warn(\n"
     ]
    },
    {
     "data": {
      "text/html": [
       "<div>\n",
       "<style scoped>\n",
       "    .dataframe tbody tr th:only-of-type {\n",
       "        vertical-align: middle;\n",
       "    }\n",
       "\n",
       "    .dataframe tbody tr th {\n",
       "        vertical-align: top;\n",
       "    }\n",
       "\n",
       "    .dataframe thead th {\n",
       "        text-align: right;\n",
       "    }\n",
       "</style>\n",
       "<table border=\"1\" class=\"dataframe\">\n",
       "  <thead>\n",
       "    <tr style=\"text-align: right;\">\n",
       "      <th></th>\n",
       "      <th>index</th>\n",
       "      <th>title</th>\n",
       "    </tr>\n",
       "  </thead>\n",
       "  <tbody>\n",
       "    <tr>\n",
       "      <th>0</th>\n",
       "      <td>17561</td>\n",
       "      <td>9 Month Stretch</td>\n",
       "    </tr>\n",
       "    <tr>\n",
       "      <th>1</th>\n",
       "      <td>1939</td>\n",
       "      <td>Risen</td>\n",
       "    </tr>\n",
       "    <tr>\n",
       "      <th>2</th>\n",
       "      <td>14420</td>\n",
       "      <td>Goon</td>\n",
       "    </tr>\n",
       "    <tr>\n",
       "      <th>3</th>\n",
       "      <td>10790</td>\n",
       "      <td>Wuthering Heights</td>\n",
       "    </tr>\n",
       "    <tr>\n",
       "      <th>4</th>\n",
       "      <td>5731</td>\n",
       "      <td>Still Alice</td>\n",
       "    </tr>\n",
       "  </tbody>\n",
       "</table>\n",
       "</div>"
      ],
      "text/plain": [
       "   index              title\n",
       "0  17561    9 Month Stretch\n",
       "1   1939              Risen\n",
       "2  14420               Goon\n",
       "3  10790  Wuthering Heights\n",
       "4   5731        Still Alice"
      ]
     },
     "execution_count": 8,
     "metadata": {},
     "output_type": "execute_result"
    }
   ],
   "source": [
    "# Ejemplo de uso de la función\n",
    "\n",
    "pelicula = 'Terms of Endearment'\n",
    "#peliculas_recomendadas = \n",
    "Pelis_recom(pelicula)\n",
    "#print(f\"Películas recomendadas para '{pelicula}':\")\n",
    "#print(peliculas_recomendadas)\n"
   ]
  },
  {
   "cell_type": "code",
   "execution_count": null,
   "metadata": {},
   "outputs": [],
   "source": []
  }
 ],
 "metadata": {
  "kernelspec": {
   "display_name": "henry",
   "language": "python",
   "name": "python3"
  },
  "language_info": {
   "codemirror_mode": {
    "name": "ipython",
    "version": 3
   },
   "file_extension": ".py",
   "mimetype": "text/x-python",
   "name": "python",
   "nbconvert_exporter": "python",
   "pygments_lexer": "ipython3",
   "version": "3.11.4"
  },
  "orig_nbformat": 4
 },
 "nbformat": 4,
 "nbformat_minor": 2
}
