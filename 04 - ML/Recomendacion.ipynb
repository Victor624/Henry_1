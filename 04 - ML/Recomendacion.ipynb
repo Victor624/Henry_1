{
 "cells": [
  {
   "cell_type": "code",
   "execution_count": 6,
   "metadata": {},
   "outputs": [],
   "source": [
    "import pandas as pd\n",
    "from sklearn.neighbors import NearestNeighbors"
   ]
  },
  {
   "cell_type": "code",
   "execution_count": 7,
   "metadata": {},
   "outputs": [],
   "source": [
    "ML=pd.read_csv('../Machine.csv')\n",
    "ML=ML.sample(frac=1)\n",
    "ML=ML.reset_index()"
   ]
  },
  {
   "cell_type": "code",
   "execution_count": 8,
   "metadata": {},
   "outputs": [
    {
     "data": {
      "text/html": [
       "<div>\n",
       "<style scoped>\n",
       "    .dataframe tbody tr th:only-of-type {\n",
       "        vertical-align: middle;\n",
       "    }\n",
       "\n",
       "    .dataframe tbody tr th {\n",
       "        vertical-align: top;\n",
       "    }\n",
       "\n",
       "    .dataframe thead th {\n",
       "        text-align: right;\n",
       "    }\n",
       "</style>\n",
       "<table border=\"1\" class=\"dataframe\">\n",
       "  <thead>\n",
       "    <tr style=\"text-align: right;\">\n",
       "      <th></th>\n",
       "      <th>index</th>\n",
       "      <th>title</th>\n",
       "      <th>name_genres</th>\n",
       "      <th>popularity</th>\n",
       "    </tr>\n",
       "  </thead>\n",
       "  <tbody>\n",
       "    <tr>\n",
       "      <th>0</th>\n",
       "      <td>14788</td>\n",
       "      <td>The Donner Party</td>\n",
       "      <td>Drama Western</td>\n",
       "      <td>0.665873</td>\n",
       "    </tr>\n",
       "    <tr>\n",
       "      <th>1</th>\n",
       "      <td>12872</td>\n",
       "      <td>Bomb It</td>\n",
       "      <td>Documentary</td>\n",
       "      <td>0.477894</td>\n",
       "    </tr>\n",
       "    <tr>\n",
       "      <th>2</th>\n",
       "      <td>34384</td>\n",
       "      <td>Fiza</td>\n",
       "      <td>Drama Foreign Romance</td>\n",
       "      <td>0.254553</td>\n",
       "    </tr>\n",
       "    <tr>\n",
       "      <th>3</th>\n",
       "      <td>19041</td>\n",
       "      <td>Eaux d'artifice</td>\n",
       "      <td>Music</td>\n",
       "      <td>0.373656</td>\n",
       "    </tr>\n",
       "    <tr>\n",
       "      <th>4</th>\n",
       "      <td>33879</td>\n",
       "      <td>God's Angry Man</td>\n",
       "      <td>Documentary</td>\n",
       "      <td>0.000844</td>\n",
       "    </tr>\n",
       "  </tbody>\n",
       "</table>\n",
       "</div>"
      ],
      "text/plain": [
       "   index             title            name_genres  popularity\n",
       "0  14788  The Donner Party          Drama Western    0.665873\n",
       "1  12872           Bomb It            Documentary    0.477894\n",
       "2  34384              Fiza  Drama Foreign Romance    0.254553\n",
       "3  19041   Eaux d'artifice                  Music    0.373656\n",
       "4  33879   God's Angry Man            Documentary    0.000844"
      ]
     },
     "execution_count": 8,
     "metadata": {},
     "output_type": "execute_result"
    }
   ],
   "source": [
    "ML.head()"
   ]
  },
  {
   "cell_type": "code",
   "execution_count": 20,
   "metadata": {},
   "outputs": [],
   "source": [
    "\n",
    "def Pelis_recom(pelicula):\n",
    "    # archivo CSV con los datos\n",
    "    ML_DF1 = ML\n",
    "\n",
    "    # Buscar la película por título en la columna 'title'\n",
    "    movie = ML_DF1[ML_DF1['title'] == pelicula]\n",
    "\n",
    "    if len(movie) == 0:\n",
    "        return \"La película no se encuentra en la base de datos.\"\n",
    "\n",
    "    # Obtener el género y la popularidad de la película\n",
    "    movie_genero = movie['name_genres'].values[0]\n",
    "    movie_popularity = movie['popularity'].values[0]\n",
    "\n",
    "    # matriz de características para el modelo de vecinos más cercanos\n",
    "    features = ML_DF1[['popularity']]\n",
    "    genres = ML_DF1['name_genres'].str.get_dummies(sep=' ')\n",
    "    features = pd.concat([features, genres], axis=1)\n",
    "\n",
    "    # Manejar valores faltantes (NaN) reemplazándolos por ceros\n",
    "    features = features.fillna(0)\n",
    "\n",
    "    # modelo de vecinos más cercanos\n",
    "    nn_model = NearestNeighbors(n_neighbors=6, metric='euclidean')\n",
    "    nn_model.fit(features)\n",
    "\n",
    "    # Encontrar las películas más similares (excluyendo la película de consulta indicada por usuario)\n",
    "    _, indices = nn_model.kneighbors([[movie_popularity] + [0] * len(genres.columns)], n_neighbors=6)\n",
    "    similar_movies_indices = indices[0][1:]  # Excluyendo la primera película que es la misma consulta\n",
    "    Pelis_recom = ML_DF1.iloc[similar_movies_indices]['title']\n",
    "\n",
    "    # Si la película de consulta está en la lista de recomendaciones, la eliminamos\n",
    "    if pelicula in Pelis_recom.tolist():\n",
    "        Pelis_recom = Pelis_recom[Pelis_recom != pelicula]\n",
    "        \n",
    "    Lista=pd.DataFrame(Pelis_recom)\n",
    "    \n",
    "    Lista=Lista.reset_index()\n",
    "    #Lista=Lista[[\"title\",\"release_date\",\"revenue\",\"Return\"]]\n",
    "    Lista=Lista[0:5]\n",
    "    \n",
    "        \n",
    "    \n",
    "    \n",
    "    \n",
    "    return Lista"
   ]
  },
  {
   "cell_type": "code",
   "execution_count": 21,
   "metadata": {},
   "outputs": [
    {
     "name": "stderr",
     "output_type": "stream",
     "text": [
      "c:\\Users\\victo\\OneDrive\\Escritorio\\Henry_1\\henry\\Lib\\site-packages\\sklearn\\base.py:464: UserWarning: X does not have valid feature names, but NearestNeighbors was fitted with feature names\n",
      "  warnings.warn(\n"
     ]
    },
    {
     "data": {
      "text/plain": [
       "24400        The Hangover Part II\n",
       "6815                 Seven Pounds\n",
       "19113                  Fist Fight\n",
       "23982    The Pursuit of Happyness\n",
       "25383                Ghostbusters\n",
       "Name: title, dtype: object"
      ]
     },
     "execution_count": 21,
     "metadata": {},
     "output_type": "execute_result"
    }
   ],
   "source": [
    "# Ejemplo de uso de la función\n",
    "\n",
    "pelicula = 'Toy Story'\n",
    "#peliculas_recomendadas = \n",
    "Pelis_recom(pelicula)\n",
    "#print(f\"Películas recomendadas para '{pelicula}':\")\n",
    "#print(peliculas_recomendadas)\n"
   ]
  },
  {
   "cell_type": "code",
   "execution_count": null,
   "metadata": {},
   "outputs": [],
   "source": []
  }
 ],
 "metadata": {
  "kernelspec": {
   "display_name": "henry",
   "language": "python",
   "name": "python3"
  },
  "language_info": {
   "codemirror_mode": {
    "name": "ipython",
    "version": 3
   },
   "file_extension": ".py",
   "mimetype": "text/x-python",
   "name": "python",
   "nbconvert_exporter": "python",
   "pygments_lexer": "ipython3",
   "version": "3.11.4"
  },
  "orig_nbformat": 4
 },
 "nbformat": 4,
 "nbformat_minor": 2
}
